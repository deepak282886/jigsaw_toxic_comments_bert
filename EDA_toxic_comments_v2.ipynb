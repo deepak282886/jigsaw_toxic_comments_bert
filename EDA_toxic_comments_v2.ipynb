{
  "nbformat": 4,
  "nbformat_minor": 0,
  "metadata": {
    "colab": {
      "name": "EDA_toxic_comments_v2.ipynb",
      "provenance": [],
      "collapsed_sections": [
        "HV84nZyszmBY",
        "Yfqkws-hzt6i",
        "Efwvugvd0FEH",
        "Y8KYWnJm0bNR",
        "DkeqIw2x0i4J",
        "qOG7HZMO0ta0",
        "tVWyV6PA1AKr",
        "gnPYtqPQ1T95",
        "KqFMtikO1ajo",
        "9kqhbV8g1or0",
        "NaAAj9Pj1wd5",
        "7P1cpM5X13iZ"
      ],
      "machine_shape": "hm"
    },
    "kernelspec": {
      "name": "python3",
      "display_name": "Python 3"
    },
    "language_info": {
      "name": "python"
    },
    "accelerator": "GPU"
  },
  "cells": [
    {
      "cell_type": "markdown",
      "source": [
        "<h1>Jigsaw Unintended Bias in Toxicity Classification</h1>\n",
        "You can visit the problem here:- \n",
        "\n",
        "https://www.kaggle.com/c/jigsaw-unintended-bias-in-toxicity-classification\n",
        "\n",
        "The dataset for toxicity classification is provided by conversational AI. \n",
        "\n",
        "Following files are provided along with the Kaggle problem. \n",
        "- Train.csv - Contains various features of comments along with the comments.\n",
        "- Test.csv - Contains just the comments without sub-categories. \n",
        "- Test_public_expanded.csv - Has been added later on to add sub-categories for the comments in the test dataset.\n",
        "- Test_private_expanded.csv - - Has been added later on to add sub-categories for the comments in the test dataset.\n",
        "- Toxicity_individual_annotations.csv - Contains toxicity rated by individual people\n",
        "- Identity_individual_annoations.csv - Contains toxicity rated by individual people\n"
      ],
      "metadata": {
        "id": "h1ns6SsqEpxb"
      }
    },
    {
      "cell_type": "markdown",
      "source": [
        "#Downloading Data"
      ],
      "metadata": {
        "id": "HV84nZyszmBY"
      }
    },
    {
      "cell_type": "code",
      "execution_count": null,
      "metadata": {
        "id": "dnKWkKmBKLB3"
      },
      "outputs": [],
      "source": [
        "import os\n",
        "import pandas as pd\n",
        "import numpy as np\n",
        "import matplotlib.pyplot as plt\n",
        "import seaborn as sns\n",
        "import warnings\n",
        "warnings.filterwarnings(\"ignore\")\n",
        "%matplotlib inline"
      ]
    },
    {
      "cell_type": "code",
      "source": [
        "from google.colab import drive\n",
        "\n",
        "drive.mount('/content/drive')"
      ],
      "metadata": {
        "colab": {
          "base_uri": "https://localhost:8080/"
        },
        "id": "IlHYIZbcLgXd",
        "outputId": "1e9ca8f5-0824-4941-a606-d8d7b42051d7"
      },
      "execution_count": null,
      "outputs": [
        {
          "output_type": "stream",
          "name": "stdout",
          "text": [
            "Mounted at /content/drive\n"
          ]
        }
      ]
    },
    {
      "cell_type": "code",
      "source": [
        "%cd /content/drive/MyDrive/kaggle_toxic/"
      ],
      "metadata": {
        "colab": {
          "base_uri": "https://localhost:8080/"
        },
        "id": "LlimaOurL2kO",
        "outputId": "bcb819f2-50a9-4881-b43d-bd16b2ac6973"
      },
      "execution_count": null,
      "outputs": [
        {
          "output_type": "stream",
          "name": "stdout",
          "text": [
            "/content/drive/MyDrive/kaggle_toxic\n"
          ]
        }
      ]
    },
    {
      "cell_type": "code",
      "source": [
        "!pip install kaggle"
      ],
      "metadata": {
        "colab": {
          "base_uri": "https://localhost:8080/"
        },
        "id": "Lvnm36ifNBUp",
        "outputId": "7596aaac-7d2a-457e-e2f1-80bde0ab8729"
      },
      "execution_count": null,
      "outputs": [
        {
          "output_type": "stream",
          "name": "stdout",
          "text": [
            "Requirement already satisfied: kaggle in /usr/local/lib/python3.7/dist-packages (1.5.12)\n",
            "Requirement already satisfied: certifi in /usr/local/lib/python3.7/dist-packages (from kaggle) (2021.10.8)\n",
            "Requirement already satisfied: urllib3 in /usr/local/lib/python3.7/dist-packages (from kaggle) (1.24.3)\n",
            "Requirement already satisfied: six>=1.10 in /usr/local/lib/python3.7/dist-packages (from kaggle) (1.15.0)\n",
            "Requirement already satisfied: python-dateutil in /usr/local/lib/python3.7/dist-packages (from kaggle) (2.8.2)\n",
            "Requirement already satisfied: tqdm in /usr/local/lib/python3.7/dist-packages (from kaggle) (4.62.3)\n",
            "Requirement already satisfied: requests in /usr/local/lib/python3.7/dist-packages (from kaggle) (2.23.0)\n",
            "Requirement already satisfied: python-slugify in /usr/local/lib/python3.7/dist-packages (from kaggle) (5.0.2)\n",
            "Requirement already satisfied: text-unidecode>=1.3 in /usr/local/lib/python3.7/dist-packages (from python-slugify->kaggle) (1.3)\n",
            "Requirement already satisfied: chardet<4,>=3.0.2 in /usr/local/lib/python3.7/dist-packages (from requests->kaggle) (3.0.4)\n",
            "Requirement already satisfied: idna<3,>=2.5 in /usr/local/lib/python3.7/dist-packages (from requests->kaggle) (2.10)\n"
          ]
        }
      ]
    },
    {
      "cell_type": "code",
      "execution_count": null,
      "metadata": {
        "id": "jytqLTuwHEda"
      },
      "outputs": [],
      "source": [
        "! mkdir ~/.kaggle"
      ]
    },
    {
      "cell_type": "code",
      "execution_count": null,
      "metadata": {
        "id": "EaGkq8vwHFQt"
      },
      "outputs": [],
      "source": [
        "!cp kaggle.json ~/.kaggle/"
      ]
    },
    {
      "cell_type": "code",
      "execution_count": null,
      "metadata": {
        "id": "jjoUqXgKHKon"
      },
      "outputs": [],
      "source": [
        "!chmod 600 ~/.kaggle/kaggle.json"
      ]
    },
    {
      "cell_type": "code",
      "source": [
        "!kaggle competitions download -c jigsaw-unintended-bias-in-toxicity-classification"
      ],
      "metadata": {
        "colab": {
          "base_uri": "https://localhost:8080/"
        },
        "id": "UErLn9n4IKDo",
        "outputId": "362eaafa-f0c3-4d1a-abf5-d152a62a6039"
      },
      "execution_count": null,
      "outputs": [
        {
          "output_type": "stream",
          "name": "stdout",
          "text": [
            "Warning: Looks like you're using an outdated API Version, please consider updating (server 1.5.12 / client 1.5.4)\n",
            "Downloading test_public_expanded.csv.zip to /content/drive/MyDrive\n",
            " 32% 5.00M/15.9M [00:00<00:00, 35.4MB/s]\n",
            "100% 15.9M/15.9M [00:00<00:00, 62.9MB/s]\n",
            "Downloading test_private_expanded.csv.zip to /content/drive/MyDrive\n",
            " 32% 5.00M/15.8M [00:00<00:00, 35.9MB/s]\n",
            "100% 15.8M/15.8M [00:00<00:00, 62.5MB/s]\n",
            "train.csv.zip: Skipping, found more recently modified local copy (use --force to force download)\n",
            "Downloading test.csv.zip to /content/drive/MyDrive\n",
            " 41% 5.00M/12.1M [00:00<00:00, 38.2MB/s]\n",
            "100% 12.1M/12.1M [00:00<00:00, 59.2MB/s]\n",
            "Downloading identity_individual_annotations.csv.zip to /content/drive/MyDrive\n",
            " 41% 5.00M/12.3M [00:00<00:00, 46.3MB/s]\n",
            "100% 12.3M/12.3M [00:00<00:00, 59.9MB/s]\n",
            "sample_submission.csv.zip: Skipping, found more recently modified local copy (use --force to force download)\n",
            "Downloading toxicity_individual_annotations.csv.zip to /content/drive/MyDrive\n",
            " 87% 56.0M/64.7M [00:00<00:00, 63.2MB/s]\n",
            "100% 64.7M/64.7M [00:00<00:00, 91.9MB/s]\n",
            "Downloading all_data.csv.zip to /content/drive/MyDrive\n",
            " 98% 320M/326M [00:02<00:00, 125MB/s]\n",
            "100% 326M/326M [00:02<00:00, 127MB/s]\n"
          ]
        }
      ]
    },
    {
      "cell_type": "code",
      "source": [
        "import zipfile\n",
        "with zipfile.ZipFile('all_data.csv.zip', 'r') as zip_ref:\n",
        "    zip_ref.extractall('./')"
      ],
      "metadata": {
        "id": "AlnwC5QNIdq9"
      },
      "execution_count": null,
      "outputs": []
    },
    {
      "cell_type": "code",
      "source": [
        "with zipfile.ZipFile('identity_individual_annotations.csv.zip', 'r') as zip_ref:\n",
        "    zip_ref.extractall('./')"
      ],
      "metadata": {
        "id": "wIr_xp5QLJcS"
      },
      "execution_count": null,
      "outputs": []
    },
    {
      "cell_type": "code",
      "source": [
        "with zipfile.ZipFile('toxicity_individual_annotations.csv.zip', 'r') as zip_ref:\n",
        "    zip_ref.extractall('./')"
      ],
      "metadata": {
        "id": "dR-2SXZ_MdKK"
      },
      "execution_count": null,
      "outputs": []
    },
    {
      "cell_type": "code",
      "source": [
        "with zipfile.ZipFile('test_private_expanded.csv.zip', 'r') as zip_ref:\n",
        "    zip_ref.extractall('./')"
      ],
      "metadata": {
        "id": "z3LAhm2EMmZS"
      },
      "execution_count": null,
      "outputs": []
    },
    {
      "cell_type": "code",
      "source": [
        "with zipfile.ZipFile('test_public_expanded.csv.zip', 'r') as zip_ref:\n",
        "    zip_ref.extractall('./')"
      ],
      "metadata": {
        "id": "8kzw703TMye-"
      },
      "execution_count": null,
      "outputs": []
    },
    {
      "cell_type": "code",
      "source": [
        "with zipfile.ZipFile('test.csv.zip', 'r') as zip_ref:\n",
        "    zip_ref.extractall('./')"
      ],
      "metadata": {
        "id": "ganir9dYM2j7"
      },
      "execution_count": null,
      "outputs": []
    },
    {
      "cell_type": "markdown",
      "source": [
        "#Loading Data and viewing NaN values"
      ],
      "metadata": {
        "id": "Yfqkws-hzt6i"
      }
    },
    {
      "cell_type": "code",
      "source": [
        "all_data = pd.read_csv('all_data.csv')"
      ],
      "metadata": {
        "id": "fYy8lG5jNhUl"
      },
      "execution_count": null,
      "outputs": []
    },
    {
      "cell_type": "code",
      "source": [
        "all_data.head(5)"
      ],
      "metadata": {
        "colab": {
          "base_uri": "https://localhost:8080/",
          "height": 565
        },
        "id": "MGa1mKMvVm-9",
        "outputId": "45060d11-9638-4541-ad25-c0aba5882293"
      },
      "execution_count": null,
      "outputs": [
        {
          "output_type": "execute_result",
          "data": {
            "text/html": [
              "\n",
              "  <div id=\"df-423f4e7d-7507-4df5-9652-4babde79ef6a\">\n",
              "    <div class=\"colab-df-container\">\n",
              "      <div>\n",
              "<style scoped>\n",
              "    .dataframe tbody tr th:only-of-type {\n",
              "        vertical-align: middle;\n",
              "    }\n",
              "\n",
              "    .dataframe tbody tr th {\n",
              "        vertical-align: top;\n",
              "    }\n",
              "\n",
              "    .dataframe thead th {\n",
              "        text-align: right;\n",
              "    }\n",
              "</style>\n",
              "<table border=\"1\" class=\"dataframe\">\n",
              "  <thead>\n",
              "    <tr style=\"text-align: right;\">\n",
              "      <th></th>\n",
              "      <th>id</th>\n",
              "      <th>comment_text</th>\n",
              "      <th>split</th>\n",
              "      <th>created_date</th>\n",
              "      <th>publication_id</th>\n",
              "      <th>parent_id</th>\n",
              "      <th>article_id</th>\n",
              "      <th>rating</th>\n",
              "      <th>funny</th>\n",
              "      <th>wow</th>\n",
              "      <th>sad</th>\n",
              "      <th>likes</th>\n",
              "      <th>disagree</th>\n",
              "      <th>toxicity</th>\n",
              "      <th>severe_toxicity</th>\n",
              "      <th>obscene</th>\n",
              "      <th>sexual_explicit</th>\n",
              "      <th>identity_attack</th>\n",
              "      <th>insult</th>\n",
              "      <th>threat</th>\n",
              "      <th>male</th>\n",
              "      <th>female</th>\n",
              "      <th>transgender</th>\n",
              "      <th>other_gender</th>\n",
              "      <th>heterosexual</th>\n",
              "      <th>homosexual_gay_or_lesbian</th>\n",
              "      <th>bisexual</th>\n",
              "      <th>other_sexual_orientation</th>\n",
              "      <th>christian</th>\n",
              "      <th>jewish</th>\n",
              "      <th>muslim</th>\n",
              "      <th>hindu</th>\n",
              "      <th>buddhist</th>\n",
              "      <th>atheist</th>\n",
              "      <th>other_religion</th>\n",
              "      <th>black</th>\n",
              "      <th>white</th>\n",
              "      <th>asian</th>\n",
              "      <th>latino</th>\n",
              "      <th>other_race_or_ethnicity</th>\n",
              "      <th>physical_disability</th>\n",
              "      <th>intellectual_or_learning_disability</th>\n",
              "      <th>psychiatric_or_mental_illness</th>\n",
              "      <th>other_disability</th>\n",
              "      <th>identity_annotator_count</th>\n",
              "      <th>toxicity_annotator_count</th>\n",
              "    </tr>\n",
              "  </thead>\n",
              "  <tbody>\n",
              "    <tr>\n",
              "      <th>0</th>\n",
              "      <td>1083994</td>\n",
              "      <td>He got his money... now he lies in wait till a...</td>\n",
              "      <td>train</td>\n",
              "      <td>2017-03-06 15:21:53.675241+00</td>\n",
              "      <td>21</td>\n",
              "      <td>NaN</td>\n",
              "      <td>317120</td>\n",
              "      <td>approved</td>\n",
              "      <td>0</td>\n",
              "      <td>0</td>\n",
              "      <td>0</td>\n",
              "      <td>2</td>\n",
              "      <td>0</td>\n",
              "      <td>0.373134</td>\n",
              "      <td>0.044776</td>\n",
              "      <td>0.089552</td>\n",
              "      <td>0.014925</td>\n",
              "      <td>0.000000</td>\n",
              "      <td>0.343284</td>\n",
              "      <td>0.014925</td>\n",
              "      <td>NaN</td>\n",
              "      <td>NaN</td>\n",
              "      <td>NaN</td>\n",
              "      <td>NaN</td>\n",
              "      <td>NaN</td>\n",
              "      <td>NaN</td>\n",
              "      <td>NaN</td>\n",
              "      <td>NaN</td>\n",
              "      <td>NaN</td>\n",
              "      <td>NaN</td>\n",
              "      <td>NaN</td>\n",
              "      <td>NaN</td>\n",
              "      <td>NaN</td>\n",
              "      <td>NaN</td>\n",
              "      <td>NaN</td>\n",
              "      <td>NaN</td>\n",
              "      <td>NaN</td>\n",
              "      <td>NaN</td>\n",
              "      <td>NaN</td>\n",
              "      <td>NaN</td>\n",
              "      <td>NaN</td>\n",
              "      <td>NaN</td>\n",
              "      <td>NaN</td>\n",
              "      <td>NaN</td>\n",
              "      <td>0</td>\n",
              "      <td>67</td>\n",
              "    </tr>\n",
              "    <tr>\n",
              "      <th>1</th>\n",
              "      <td>650904</td>\n",
              "      <td>Mad dog will surely put the liberals in mental...</td>\n",
              "      <td>train</td>\n",
              "      <td>2016-12-02 16:44:21.329535+00</td>\n",
              "      <td>21</td>\n",
              "      <td>NaN</td>\n",
              "      <td>154086</td>\n",
              "      <td>approved</td>\n",
              "      <td>0</td>\n",
              "      <td>0</td>\n",
              "      <td>1</td>\n",
              "      <td>2</td>\n",
              "      <td>0</td>\n",
              "      <td>0.605263</td>\n",
              "      <td>0.013158</td>\n",
              "      <td>0.065789</td>\n",
              "      <td>0.013158</td>\n",
              "      <td>0.092105</td>\n",
              "      <td>0.565789</td>\n",
              "      <td>0.065789</td>\n",
              "      <td>NaN</td>\n",
              "      <td>NaN</td>\n",
              "      <td>NaN</td>\n",
              "      <td>NaN</td>\n",
              "      <td>NaN</td>\n",
              "      <td>NaN</td>\n",
              "      <td>NaN</td>\n",
              "      <td>NaN</td>\n",
              "      <td>NaN</td>\n",
              "      <td>NaN</td>\n",
              "      <td>NaN</td>\n",
              "      <td>NaN</td>\n",
              "      <td>NaN</td>\n",
              "      <td>NaN</td>\n",
              "      <td>NaN</td>\n",
              "      <td>NaN</td>\n",
              "      <td>NaN</td>\n",
              "      <td>NaN</td>\n",
              "      <td>NaN</td>\n",
              "      <td>NaN</td>\n",
              "      <td>NaN</td>\n",
              "      <td>NaN</td>\n",
              "      <td>NaN</td>\n",
              "      <td>NaN</td>\n",
              "      <td>0</td>\n",
              "      <td>76</td>\n",
              "    </tr>\n",
              "    <tr>\n",
              "      <th>2</th>\n",
              "      <td>5902188</td>\n",
              "      <td>And Trump continues his lifelong cowardice by ...</td>\n",
              "      <td>train</td>\n",
              "      <td>2017-09-05 19:05:32.341360+00</td>\n",
              "      <td>55</td>\n",
              "      <td>NaN</td>\n",
              "      <td>374342</td>\n",
              "      <td>approved</td>\n",
              "      <td>1</td>\n",
              "      <td>0</td>\n",
              "      <td>2</td>\n",
              "      <td>3</td>\n",
              "      <td>7</td>\n",
              "      <td>0.666667</td>\n",
              "      <td>0.015873</td>\n",
              "      <td>0.031746</td>\n",
              "      <td>0.000000</td>\n",
              "      <td>0.047619</td>\n",
              "      <td>0.666667</td>\n",
              "      <td>0.000000</td>\n",
              "      <td>NaN</td>\n",
              "      <td>NaN</td>\n",
              "      <td>NaN</td>\n",
              "      <td>NaN</td>\n",
              "      <td>NaN</td>\n",
              "      <td>NaN</td>\n",
              "      <td>NaN</td>\n",
              "      <td>NaN</td>\n",
              "      <td>NaN</td>\n",
              "      <td>NaN</td>\n",
              "      <td>NaN</td>\n",
              "      <td>NaN</td>\n",
              "      <td>NaN</td>\n",
              "      <td>NaN</td>\n",
              "      <td>NaN</td>\n",
              "      <td>NaN</td>\n",
              "      <td>NaN</td>\n",
              "      <td>NaN</td>\n",
              "      <td>NaN</td>\n",
              "      <td>NaN</td>\n",
              "      <td>NaN</td>\n",
              "      <td>NaN</td>\n",
              "      <td>NaN</td>\n",
              "      <td>NaN</td>\n",
              "      <td>0</td>\n",
              "      <td>63</td>\n",
              "    </tr>\n",
              "    <tr>\n",
              "      <th>3</th>\n",
              "      <td>7084460</td>\n",
              "      <td>\"while arresting a man for resisting arrest\".\\...</td>\n",
              "      <td>test</td>\n",
              "      <td>2016-11-01 16:53:33.561631+00</td>\n",
              "      <td>13</td>\n",
              "      <td>NaN</td>\n",
              "      <td>149218</td>\n",
              "      <td>approved</td>\n",
              "      <td>0</td>\n",
              "      <td>0</td>\n",
              "      <td>0</td>\n",
              "      <td>0</td>\n",
              "      <td>0</td>\n",
              "      <td>0.815789</td>\n",
              "      <td>0.065789</td>\n",
              "      <td>0.552632</td>\n",
              "      <td>0.592105</td>\n",
              "      <td>0.000000</td>\n",
              "      <td>0.684211</td>\n",
              "      <td>0.105263</td>\n",
              "      <td>NaN</td>\n",
              "      <td>NaN</td>\n",
              "      <td>NaN</td>\n",
              "      <td>NaN</td>\n",
              "      <td>NaN</td>\n",
              "      <td>NaN</td>\n",
              "      <td>NaN</td>\n",
              "      <td>NaN</td>\n",
              "      <td>NaN</td>\n",
              "      <td>NaN</td>\n",
              "      <td>NaN</td>\n",
              "      <td>NaN</td>\n",
              "      <td>NaN</td>\n",
              "      <td>NaN</td>\n",
              "      <td>NaN</td>\n",
              "      <td>NaN</td>\n",
              "      <td>NaN</td>\n",
              "      <td>NaN</td>\n",
              "      <td>NaN</td>\n",
              "      <td>NaN</td>\n",
              "      <td>NaN</td>\n",
              "      <td>NaN</td>\n",
              "      <td>NaN</td>\n",
              "      <td>NaN</td>\n",
              "      <td>0</td>\n",
              "      <td>76</td>\n",
              "    </tr>\n",
              "    <tr>\n",
              "      <th>4</th>\n",
              "      <td>5410943</td>\n",
              "      <td>Tucker and Paul are both total bad ass mofo's.</td>\n",
              "      <td>train</td>\n",
              "      <td>2017-06-14 05:08:21.997315+00</td>\n",
              "      <td>21</td>\n",
              "      <td>NaN</td>\n",
              "      <td>344096</td>\n",
              "      <td>approved</td>\n",
              "      <td>0</td>\n",
              "      <td>0</td>\n",
              "      <td>0</td>\n",
              "      <td>1</td>\n",
              "      <td>0</td>\n",
              "      <td>0.550000</td>\n",
              "      <td>0.037500</td>\n",
              "      <td>0.337500</td>\n",
              "      <td>0.275000</td>\n",
              "      <td>0.037500</td>\n",
              "      <td>0.487500</td>\n",
              "      <td>0.000000</td>\n",
              "      <td>NaN</td>\n",
              "      <td>NaN</td>\n",
              "      <td>NaN</td>\n",
              "      <td>NaN</td>\n",
              "      <td>NaN</td>\n",
              "      <td>NaN</td>\n",
              "      <td>NaN</td>\n",
              "      <td>NaN</td>\n",
              "      <td>NaN</td>\n",
              "      <td>NaN</td>\n",
              "      <td>NaN</td>\n",
              "      <td>NaN</td>\n",
              "      <td>NaN</td>\n",
              "      <td>NaN</td>\n",
              "      <td>NaN</td>\n",
              "      <td>NaN</td>\n",
              "      <td>NaN</td>\n",
              "      <td>NaN</td>\n",
              "      <td>NaN</td>\n",
              "      <td>NaN</td>\n",
              "      <td>NaN</td>\n",
              "      <td>NaN</td>\n",
              "      <td>NaN</td>\n",
              "      <td>NaN</td>\n",
              "      <td>0</td>\n",
              "      <td>80</td>\n",
              "    </tr>\n",
              "  </tbody>\n",
              "</table>\n",
              "</div>\n",
              "      <button class=\"colab-df-convert\" onclick=\"convertToInteractive('df-423f4e7d-7507-4df5-9652-4babde79ef6a')\"\n",
              "              title=\"Convert this dataframe to an interactive table.\"\n",
              "              style=\"display:none;\">\n",
              "        \n",
              "  <svg xmlns=\"http://www.w3.org/2000/svg\" height=\"24px\"viewBox=\"0 0 24 24\"\n",
              "       width=\"24px\">\n",
              "    <path d=\"M0 0h24v24H0V0z\" fill=\"none\"/>\n",
              "    <path d=\"M18.56 5.44l.94 2.06.94-2.06 2.06-.94-2.06-.94-.94-2.06-.94 2.06-2.06.94zm-11 1L8.5 8.5l.94-2.06 2.06-.94-2.06-.94L8.5 2.5l-.94 2.06-2.06.94zm10 10l.94 2.06.94-2.06 2.06-.94-2.06-.94-.94-2.06-.94 2.06-2.06.94z\"/><path d=\"M17.41 7.96l-1.37-1.37c-.4-.4-.92-.59-1.43-.59-.52 0-1.04.2-1.43.59L10.3 9.45l-7.72 7.72c-.78.78-.78 2.05 0 2.83L4 21.41c.39.39.9.59 1.41.59.51 0 1.02-.2 1.41-.59l7.78-7.78 2.81-2.81c.8-.78.8-2.07 0-2.86zM5.41 20L4 18.59l7.72-7.72 1.47 1.35L5.41 20z\"/>\n",
              "  </svg>\n",
              "      </button>\n",
              "      \n",
              "  <style>\n",
              "    .colab-df-container {\n",
              "      display:flex;\n",
              "      flex-wrap:wrap;\n",
              "      gap: 12px;\n",
              "    }\n",
              "\n",
              "    .colab-df-convert {\n",
              "      background-color: #E8F0FE;\n",
              "      border: none;\n",
              "      border-radius: 50%;\n",
              "      cursor: pointer;\n",
              "      display: none;\n",
              "      fill: #1967D2;\n",
              "      height: 32px;\n",
              "      padding: 0 0 0 0;\n",
              "      width: 32px;\n",
              "    }\n",
              "\n",
              "    .colab-df-convert:hover {\n",
              "      background-color: #E2EBFA;\n",
              "      box-shadow: 0px 1px 2px rgba(60, 64, 67, 0.3), 0px 1px 3px 1px rgba(60, 64, 67, 0.15);\n",
              "      fill: #174EA6;\n",
              "    }\n",
              "\n",
              "    [theme=dark] .colab-df-convert {\n",
              "      background-color: #3B4455;\n",
              "      fill: #D2E3FC;\n",
              "    }\n",
              "\n",
              "    [theme=dark] .colab-df-convert:hover {\n",
              "      background-color: #434B5C;\n",
              "      box-shadow: 0px 1px 3px 1px rgba(0, 0, 0, 0.15);\n",
              "      filter: drop-shadow(0px 1px 2px rgba(0, 0, 0, 0.3));\n",
              "      fill: #FFFFFF;\n",
              "    }\n",
              "  </style>\n",
              "\n",
              "      <script>\n",
              "        const buttonEl =\n",
              "          document.querySelector('#df-423f4e7d-7507-4df5-9652-4babde79ef6a button.colab-df-convert');\n",
              "        buttonEl.style.display =\n",
              "          google.colab.kernel.accessAllowed ? 'block' : 'none';\n",
              "\n",
              "        async function convertToInteractive(key) {\n",
              "          const element = document.querySelector('#df-423f4e7d-7507-4df5-9652-4babde79ef6a');\n",
              "          const dataTable =\n",
              "            await google.colab.kernel.invokeFunction('convertToInteractive',\n",
              "                                                     [key], {});\n",
              "          if (!dataTable) return;\n",
              "\n",
              "          const docLinkHtml = 'Like what you see? Visit the ' +\n",
              "            '<a target=\"_blank\" href=https://colab.research.google.com/notebooks/data_table.ipynb>data table notebook</a>'\n",
              "            + ' to learn more about interactive tables.';\n",
              "          element.innerHTML = '';\n",
              "          dataTable['output_type'] = 'display_data';\n",
              "          await google.colab.output.renderOutput(dataTable, element);\n",
              "          const docLink = document.createElement('div');\n",
              "          docLink.innerHTML = docLinkHtml;\n",
              "          element.appendChild(docLink);\n",
              "        }\n",
              "      </script>\n",
              "    </div>\n",
              "  </div>\n",
              "  "
            ],
            "text/plain": [
              "        id  ... toxicity_annotator_count\n",
              "0  1083994  ...                       67\n",
              "1   650904  ...                       76\n",
              "2  5902188  ...                       63\n",
              "3  7084460  ...                       76\n",
              "4  5410943  ...                       80\n",
              "\n",
              "[5 rows x 46 columns]"
            ]
          },
          "metadata": {},
          "execution_count": 5
        }
      ]
    },
    {
      "cell_type": "code",
      "source": [
        "train = all_data.loc[all_data['split']=='train']\n",
        "train.head(5)"
      ],
      "metadata": {
        "colab": {
          "base_uri": "https://localhost:8080/",
          "height": 548
        },
        "id": "kVU7or5LV8ax",
        "outputId": "e36d4ec1-2f22-42f9-b5f0-6420f8b5a85c"
      },
      "execution_count": null,
      "outputs": [
        {
          "output_type": "execute_result",
          "data": {
            "text/html": [
              "\n",
              "  <div id=\"df-837d1eee-c337-4e43-8d9f-cfe89cb42508\">\n",
              "    <div class=\"colab-df-container\">\n",
              "      <div>\n",
              "<style scoped>\n",
              "    .dataframe tbody tr th:only-of-type {\n",
              "        vertical-align: middle;\n",
              "    }\n",
              "\n",
              "    .dataframe tbody tr th {\n",
              "        vertical-align: top;\n",
              "    }\n",
              "\n",
              "    .dataframe thead th {\n",
              "        text-align: right;\n",
              "    }\n",
              "</style>\n",
              "<table border=\"1\" class=\"dataframe\">\n",
              "  <thead>\n",
              "    <tr style=\"text-align: right;\">\n",
              "      <th></th>\n",
              "      <th>id</th>\n",
              "      <th>comment_text</th>\n",
              "      <th>split</th>\n",
              "      <th>created_date</th>\n",
              "      <th>publication_id</th>\n",
              "      <th>parent_id</th>\n",
              "      <th>article_id</th>\n",
              "      <th>rating</th>\n",
              "      <th>funny</th>\n",
              "      <th>wow</th>\n",
              "      <th>sad</th>\n",
              "      <th>likes</th>\n",
              "      <th>disagree</th>\n",
              "      <th>toxicity</th>\n",
              "      <th>severe_toxicity</th>\n",
              "      <th>obscene</th>\n",
              "      <th>sexual_explicit</th>\n",
              "      <th>identity_attack</th>\n",
              "      <th>insult</th>\n",
              "      <th>threat</th>\n",
              "      <th>male</th>\n",
              "      <th>female</th>\n",
              "      <th>transgender</th>\n",
              "      <th>other_gender</th>\n",
              "      <th>heterosexual</th>\n",
              "      <th>homosexual_gay_or_lesbian</th>\n",
              "      <th>bisexual</th>\n",
              "      <th>other_sexual_orientation</th>\n",
              "      <th>christian</th>\n",
              "      <th>jewish</th>\n",
              "      <th>muslim</th>\n",
              "      <th>hindu</th>\n",
              "      <th>buddhist</th>\n",
              "      <th>atheist</th>\n",
              "      <th>other_religion</th>\n",
              "      <th>black</th>\n",
              "      <th>white</th>\n",
              "      <th>asian</th>\n",
              "      <th>latino</th>\n",
              "      <th>other_race_or_ethnicity</th>\n",
              "      <th>physical_disability</th>\n",
              "      <th>intellectual_or_learning_disability</th>\n",
              "      <th>psychiatric_or_mental_illness</th>\n",
              "      <th>other_disability</th>\n",
              "      <th>identity_annotator_count</th>\n",
              "      <th>toxicity_annotator_count</th>\n",
              "    </tr>\n",
              "  </thead>\n",
              "  <tbody>\n",
              "    <tr>\n",
              "      <th>0</th>\n",
              "      <td>1083994</td>\n",
              "      <td>He got his money... now he lies in wait till a...</td>\n",
              "      <td>train</td>\n",
              "      <td>2017-03-06 15:21:53.675241+00</td>\n",
              "      <td>21</td>\n",
              "      <td>NaN</td>\n",
              "      <td>317120</td>\n",
              "      <td>approved</td>\n",
              "      <td>0</td>\n",
              "      <td>0</td>\n",
              "      <td>0</td>\n",
              "      <td>2</td>\n",
              "      <td>0</td>\n",
              "      <td>0.373134</td>\n",
              "      <td>0.044776</td>\n",
              "      <td>0.089552</td>\n",
              "      <td>0.014925</td>\n",
              "      <td>0.000000</td>\n",
              "      <td>0.343284</td>\n",
              "      <td>0.014925</td>\n",
              "      <td>NaN</td>\n",
              "      <td>NaN</td>\n",
              "      <td>NaN</td>\n",
              "      <td>NaN</td>\n",
              "      <td>NaN</td>\n",
              "      <td>NaN</td>\n",
              "      <td>NaN</td>\n",
              "      <td>NaN</td>\n",
              "      <td>NaN</td>\n",
              "      <td>NaN</td>\n",
              "      <td>NaN</td>\n",
              "      <td>NaN</td>\n",
              "      <td>NaN</td>\n",
              "      <td>NaN</td>\n",
              "      <td>NaN</td>\n",
              "      <td>NaN</td>\n",
              "      <td>NaN</td>\n",
              "      <td>NaN</td>\n",
              "      <td>NaN</td>\n",
              "      <td>NaN</td>\n",
              "      <td>NaN</td>\n",
              "      <td>NaN</td>\n",
              "      <td>NaN</td>\n",
              "      <td>NaN</td>\n",
              "      <td>0</td>\n",
              "      <td>67</td>\n",
              "    </tr>\n",
              "    <tr>\n",
              "      <th>1</th>\n",
              "      <td>650904</td>\n",
              "      <td>Mad dog will surely put the liberals in mental...</td>\n",
              "      <td>train</td>\n",
              "      <td>2016-12-02 16:44:21.329535+00</td>\n",
              "      <td>21</td>\n",
              "      <td>NaN</td>\n",
              "      <td>154086</td>\n",
              "      <td>approved</td>\n",
              "      <td>0</td>\n",
              "      <td>0</td>\n",
              "      <td>1</td>\n",
              "      <td>2</td>\n",
              "      <td>0</td>\n",
              "      <td>0.605263</td>\n",
              "      <td>0.013158</td>\n",
              "      <td>0.065789</td>\n",
              "      <td>0.013158</td>\n",
              "      <td>0.092105</td>\n",
              "      <td>0.565789</td>\n",
              "      <td>0.065789</td>\n",
              "      <td>NaN</td>\n",
              "      <td>NaN</td>\n",
              "      <td>NaN</td>\n",
              "      <td>NaN</td>\n",
              "      <td>NaN</td>\n",
              "      <td>NaN</td>\n",
              "      <td>NaN</td>\n",
              "      <td>NaN</td>\n",
              "      <td>NaN</td>\n",
              "      <td>NaN</td>\n",
              "      <td>NaN</td>\n",
              "      <td>NaN</td>\n",
              "      <td>NaN</td>\n",
              "      <td>NaN</td>\n",
              "      <td>NaN</td>\n",
              "      <td>NaN</td>\n",
              "      <td>NaN</td>\n",
              "      <td>NaN</td>\n",
              "      <td>NaN</td>\n",
              "      <td>NaN</td>\n",
              "      <td>NaN</td>\n",
              "      <td>NaN</td>\n",
              "      <td>NaN</td>\n",
              "      <td>NaN</td>\n",
              "      <td>0</td>\n",
              "      <td>76</td>\n",
              "    </tr>\n",
              "    <tr>\n",
              "      <th>2</th>\n",
              "      <td>5902188</td>\n",
              "      <td>And Trump continues his lifelong cowardice by ...</td>\n",
              "      <td>train</td>\n",
              "      <td>2017-09-05 19:05:32.341360+00</td>\n",
              "      <td>55</td>\n",
              "      <td>NaN</td>\n",
              "      <td>374342</td>\n",
              "      <td>approved</td>\n",
              "      <td>1</td>\n",
              "      <td>0</td>\n",
              "      <td>2</td>\n",
              "      <td>3</td>\n",
              "      <td>7</td>\n",
              "      <td>0.666667</td>\n",
              "      <td>0.015873</td>\n",
              "      <td>0.031746</td>\n",
              "      <td>0.000000</td>\n",
              "      <td>0.047619</td>\n",
              "      <td>0.666667</td>\n",
              "      <td>0.000000</td>\n",
              "      <td>NaN</td>\n",
              "      <td>NaN</td>\n",
              "      <td>NaN</td>\n",
              "      <td>NaN</td>\n",
              "      <td>NaN</td>\n",
              "      <td>NaN</td>\n",
              "      <td>NaN</td>\n",
              "      <td>NaN</td>\n",
              "      <td>NaN</td>\n",
              "      <td>NaN</td>\n",
              "      <td>NaN</td>\n",
              "      <td>NaN</td>\n",
              "      <td>NaN</td>\n",
              "      <td>NaN</td>\n",
              "      <td>NaN</td>\n",
              "      <td>NaN</td>\n",
              "      <td>NaN</td>\n",
              "      <td>NaN</td>\n",
              "      <td>NaN</td>\n",
              "      <td>NaN</td>\n",
              "      <td>NaN</td>\n",
              "      <td>NaN</td>\n",
              "      <td>NaN</td>\n",
              "      <td>NaN</td>\n",
              "      <td>0</td>\n",
              "      <td>63</td>\n",
              "    </tr>\n",
              "    <tr>\n",
              "      <th>4</th>\n",
              "      <td>5410943</td>\n",
              "      <td>Tucker and Paul are both total bad ass mofo's.</td>\n",
              "      <td>train</td>\n",
              "      <td>2017-06-14 05:08:21.997315+00</td>\n",
              "      <td>21</td>\n",
              "      <td>NaN</td>\n",
              "      <td>344096</td>\n",
              "      <td>approved</td>\n",
              "      <td>0</td>\n",
              "      <td>0</td>\n",
              "      <td>0</td>\n",
              "      <td>1</td>\n",
              "      <td>0</td>\n",
              "      <td>0.550000</td>\n",
              "      <td>0.037500</td>\n",
              "      <td>0.337500</td>\n",
              "      <td>0.275000</td>\n",
              "      <td>0.037500</td>\n",
              "      <td>0.487500</td>\n",
              "      <td>0.000000</td>\n",
              "      <td>NaN</td>\n",
              "      <td>NaN</td>\n",
              "      <td>NaN</td>\n",
              "      <td>NaN</td>\n",
              "      <td>NaN</td>\n",
              "      <td>NaN</td>\n",
              "      <td>NaN</td>\n",
              "      <td>NaN</td>\n",
              "      <td>NaN</td>\n",
              "      <td>NaN</td>\n",
              "      <td>NaN</td>\n",
              "      <td>NaN</td>\n",
              "      <td>NaN</td>\n",
              "      <td>NaN</td>\n",
              "      <td>NaN</td>\n",
              "      <td>NaN</td>\n",
              "      <td>NaN</td>\n",
              "      <td>NaN</td>\n",
              "      <td>NaN</td>\n",
              "      <td>NaN</td>\n",
              "      <td>NaN</td>\n",
              "      <td>NaN</td>\n",
              "      <td>NaN</td>\n",
              "      <td>NaN</td>\n",
              "      <td>0</td>\n",
              "      <td>80</td>\n",
              "    </tr>\n",
              "    <tr>\n",
              "      <th>5</th>\n",
              "      <td>6290444</td>\n",
              "      <td>Cry me a river, why don't you.\\nDrinking, drug...</td>\n",
              "      <td>train</td>\n",
              "      <td>2017-11-04 22:04:11.596185+00</td>\n",
              "      <td>54</td>\n",
              "      <td>6290143.0</td>\n",
              "      <td>396946</td>\n",
              "      <td>rejected</td>\n",
              "      <td>0</td>\n",
              "      <td>0</td>\n",
              "      <td>0</td>\n",
              "      <td>0</td>\n",
              "      <td>0</td>\n",
              "      <td>0.203390</td>\n",
              "      <td>0.016949</td>\n",
              "      <td>0.050847</td>\n",
              "      <td>0.000000</td>\n",
              "      <td>0.033898</td>\n",
              "      <td>0.203390</td>\n",
              "      <td>0.000000</td>\n",
              "      <td>NaN</td>\n",
              "      <td>NaN</td>\n",
              "      <td>NaN</td>\n",
              "      <td>NaN</td>\n",
              "      <td>NaN</td>\n",
              "      <td>NaN</td>\n",
              "      <td>NaN</td>\n",
              "      <td>NaN</td>\n",
              "      <td>NaN</td>\n",
              "      <td>NaN</td>\n",
              "      <td>NaN</td>\n",
              "      <td>NaN</td>\n",
              "      <td>NaN</td>\n",
              "      <td>NaN</td>\n",
              "      <td>NaN</td>\n",
              "      <td>NaN</td>\n",
              "      <td>NaN</td>\n",
              "      <td>NaN</td>\n",
              "      <td>NaN</td>\n",
              "      <td>NaN</td>\n",
              "      <td>NaN</td>\n",
              "      <td>NaN</td>\n",
              "      <td>NaN</td>\n",
              "      <td>NaN</td>\n",
              "      <td>0</td>\n",
              "      <td>59</td>\n",
              "    </tr>\n",
              "  </tbody>\n",
              "</table>\n",
              "</div>\n",
              "      <button class=\"colab-df-convert\" onclick=\"convertToInteractive('df-837d1eee-c337-4e43-8d9f-cfe89cb42508')\"\n",
              "              title=\"Convert this dataframe to an interactive table.\"\n",
              "              style=\"display:none;\">\n",
              "        \n",
              "  <svg xmlns=\"http://www.w3.org/2000/svg\" height=\"24px\"viewBox=\"0 0 24 24\"\n",
              "       width=\"24px\">\n",
              "    <path d=\"M0 0h24v24H0V0z\" fill=\"none\"/>\n",
              "    <path d=\"M18.56 5.44l.94 2.06.94-2.06 2.06-.94-2.06-.94-.94-2.06-.94 2.06-2.06.94zm-11 1L8.5 8.5l.94-2.06 2.06-.94-2.06-.94L8.5 2.5l-.94 2.06-2.06.94zm10 10l.94 2.06.94-2.06 2.06-.94-2.06-.94-.94-2.06-.94 2.06-2.06.94z\"/><path d=\"M17.41 7.96l-1.37-1.37c-.4-.4-.92-.59-1.43-.59-.52 0-1.04.2-1.43.59L10.3 9.45l-7.72 7.72c-.78.78-.78 2.05 0 2.83L4 21.41c.39.39.9.59 1.41.59.51 0 1.02-.2 1.41-.59l7.78-7.78 2.81-2.81c.8-.78.8-2.07 0-2.86zM5.41 20L4 18.59l7.72-7.72 1.47 1.35L5.41 20z\"/>\n",
              "  </svg>\n",
              "      </button>\n",
              "      \n",
              "  <style>\n",
              "    .colab-df-container {\n",
              "      display:flex;\n",
              "      flex-wrap:wrap;\n",
              "      gap: 12px;\n",
              "    }\n",
              "\n",
              "    .colab-df-convert {\n",
              "      background-color: #E8F0FE;\n",
              "      border: none;\n",
              "      border-radius: 50%;\n",
              "      cursor: pointer;\n",
              "      display: none;\n",
              "      fill: #1967D2;\n",
              "      height: 32px;\n",
              "      padding: 0 0 0 0;\n",
              "      width: 32px;\n",
              "    }\n",
              "\n",
              "    .colab-df-convert:hover {\n",
              "      background-color: #E2EBFA;\n",
              "      box-shadow: 0px 1px 2px rgba(60, 64, 67, 0.3), 0px 1px 3px 1px rgba(60, 64, 67, 0.15);\n",
              "      fill: #174EA6;\n",
              "    }\n",
              "\n",
              "    [theme=dark] .colab-df-convert {\n",
              "      background-color: #3B4455;\n",
              "      fill: #D2E3FC;\n",
              "    }\n",
              "\n",
              "    [theme=dark] .colab-df-convert:hover {\n",
              "      background-color: #434B5C;\n",
              "      box-shadow: 0px 1px 3px 1px rgba(0, 0, 0, 0.15);\n",
              "      filter: drop-shadow(0px 1px 2px rgba(0, 0, 0, 0.3));\n",
              "      fill: #FFFFFF;\n",
              "    }\n",
              "  </style>\n",
              "\n",
              "      <script>\n",
              "        const buttonEl =\n",
              "          document.querySelector('#df-837d1eee-c337-4e43-8d9f-cfe89cb42508 button.colab-df-convert');\n",
              "        buttonEl.style.display =\n",
              "          google.colab.kernel.accessAllowed ? 'block' : 'none';\n",
              "\n",
              "        async function convertToInteractive(key) {\n",
              "          const element = document.querySelector('#df-837d1eee-c337-4e43-8d9f-cfe89cb42508');\n",
              "          const dataTable =\n",
              "            await google.colab.kernel.invokeFunction('convertToInteractive',\n",
              "                                                     [key], {});\n",
              "          if (!dataTable) return;\n",
              "\n",
              "          const docLinkHtml = 'Like what you see? Visit the ' +\n",
              "            '<a target=\"_blank\" href=https://colab.research.google.com/notebooks/data_table.ipynb>data table notebook</a>'\n",
              "            + ' to learn more about interactive tables.';\n",
              "          element.innerHTML = '';\n",
              "          dataTable['output_type'] = 'display_data';\n",
              "          await google.colab.output.renderOutput(dataTable, element);\n",
              "          const docLink = document.createElement('div');\n",
              "          docLink.innerHTML = docLinkHtml;\n",
              "          element.appendChild(docLink);\n",
              "        }\n",
              "      </script>\n",
              "    </div>\n",
              "  </div>\n",
              "  "
            ],
            "text/plain": [
              "        id  ... toxicity_annotator_count\n",
              "0  1083994  ...                       67\n",
              "1   650904  ...                       76\n",
              "2  5902188  ...                       63\n",
              "4  5410943  ...                       80\n",
              "5  6290444  ...                       59\n",
              "\n",
              "[5 rows x 46 columns]"
            ]
          },
          "metadata": {},
          "execution_count": 6
        }
      ]
    },
    {
      "cell_type": "code",
      "source": [
        "train.drop('split', axis=1, inplace=True)"
      ],
      "metadata": {
        "id": "zq-Mad4CWRga"
      },
      "execution_count": null,
      "outputs": []
    },
    {
      "cell_type": "code",
      "source": [
        "train = train.reset_index(drop=True)\n",
        "train.head(5)"
      ],
      "metadata": {
        "colab": {
          "base_uri": "https://localhost:8080/",
          "height": 548
        },
        "id": "11QSNYl8fHYV",
        "outputId": "6d2c7cdc-0ac8-4221-d8d2-787697ee8e84"
      },
      "execution_count": null,
      "outputs": [
        {
          "output_type": "execute_result",
          "data": {
            "text/html": [
              "\n",
              "  <div id=\"df-3e6cd29e-b06c-4c54-891e-75b32782e456\">\n",
              "    <div class=\"colab-df-container\">\n",
              "      <div>\n",
              "<style scoped>\n",
              "    .dataframe tbody tr th:only-of-type {\n",
              "        vertical-align: middle;\n",
              "    }\n",
              "\n",
              "    .dataframe tbody tr th {\n",
              "        vertical-align: top;\n",
              "    }\n",
              "\n",
              "    .dataframe thead th {\n",
              "        text-align: right;\n",
              "    }\n",
              "</style>\n",
              "<table border=\"1\" class=\"dataframe\">\n",
              "  <thead>\n",
              "    <tr style=\"text-align: right;\">\n",
              "      <th></th>\n",
              "      <th>id</th>\n",
              "      <th>comment_text</th>\n",
              "      <th>created_date</th>\n",
              "      <th>publication_id</th>\n",
              "      <th>parent_id</th>\n",
              "      <th>article_id</th>\n",
              "      <th>rating</th>\n",
              "      <th>funny</th>\n",
              "      <th>wow</th>\n",
              "      <th>sad</th>\n",
              "      <th>likes</th>\n",
              "      <th>disagree</th>\n",
              "      <th>toxicity</th>\n",
              "      <th>severe_toxicity</th>\n",
              "      <th>obscene</th>\n",
              "      <th>sexual_explicit</th>\n",
              "      <th>identity_attack</th>\n",
              "      <th>insult</th>\n",
              "      <th>threat</th>\n",
              "      <th>male</th>\n",
              "      <th>female</th>\n",
              "      <th>transgender</th>\n",
              "      <th>other_gender</th>\n",
              "      <th>heterosexual</th>\n",
              "      <th>homosexual_gay_or_lesbian</th>\n",
              "      <th>bisexual</th>\n",
              "      <th>other_sexual_orientation</th>\n",
              "      <th>christian</th>\n",
              "      <th>jewish</th>\n",
              "      <th>muslim</th>\n",
              "      <th>hindu</th>\n",
              "      <th>buddhist</th>\n",
              "      <th>atheist</th>\n",
              "      <th>other_religion</th>\n",
              "      <th>black</th>\n",
              "      <th>white</th>\n",
              "      <th>asian</th>\n",
              "      <th>latino</th>\n",
              "      <th>other_race_or_ethnicity</th>\n",
              "      <th>physical_disability</th>\n",
              "      <th>intellectual_or_learning_disability</th>\n",
              "      <th>psychiatric_or_mental_illness</th>\n",
              "      <th>other_disability</th>\n",
              "      <th>identity_annotator_count</th>\n",
              "      <th>toxicity_annotator_count</th>\n",
              "    </tr>\n",
              "  </thead>\n",
              "  <tbody>\n",
              "    <tr>\n",
              "      <th>0</th>\n",
              "      <td>1083994</td>\n",
              "      <td>He got his money... now he lies in wait till a...</td>\n",
              "      <td>2017-03-06 15:21:53.675241+00</td>\n",
              "      <td>21</td>\n",
              "      <td>NaN</td>\n",
              "      <td>317120</td>\n",
              "      <td>approved</td>\n",
              "      <td>0</td>\n",
              "      <td>0</td>\n",
              "      <td>0</td>\n",
              "      <td>2</td>\n",
              "      <td>0</td>\n",
              "      <td>0.373134</td>\n",
              "      <td>0.044776</td>\n",
              "      <td>0.089552</td>\n",
              "      <td>0.014925</td>\n",
              "      <td>0.000000</td>\n",
              "      <td>0.343284</td>\n",
              "      <td>0.014925</td>\n",
              "      <td>NaN</td>\n",
              "      <td>NaN</td>\n",
              "      <td>NaN</td>\n",
              "      <td>NaN</td>\n",
              "      <td>NaN</td>\n",
              "      <td>NaN</td>\n",
              "      <td>NaN</td>\n",
              "      <td>NaN</td>\n",
              "      <td>NaN</td>\n",
              "      <td>NaN</td>\n",
              "      <td>NaN</td>\n",
              "      <td>NaN</td>\n",
              "      <td>NaN</td>\n",
              "      <td>NaN</td>\n",
              "      <td>NaN</td>\n",
              "      <td>NaN</td>\n",
              "      <td>NaN</td>\n",
              "      <td>NaN</td>\n",
              "      <td>NaN</td>\n",
              "      <td>NaN</td>\n",
              "      <td>NaN</td>\n",
              "      <td>NaN</td>\n",
              "      <td>NaN</td>\n",
              "      <td>NaN</td>\n",
              "      <td>0</td>\n",
              "      <td>67</td>\n",
              "    </tr>\n",
              "    <tr>\n",
              "      <th>1</th>\n",
              "      <td>650904</td>\n",
              "      <td>Mad dog will surely put the liberals in mental...</td>\n",
              "      <td>2016-12-02 16:44:21.329535+00</td>\n",
              "      <td>21</td>\n",
              "      <td>NaN</td>\n",
              "      <td>154086</td>\n",
              "      <td>approved</td>\n",
              "      <td>0</td>\n",
              "      <td>0</td>\n",
              "      <td>1</td>\n",
              "      <td>2</td>\n",
              "      <td>0</td>\n",
              "      <td>0.605263</td>\n",
              "      <td>0.013158</td>\n",
              "      <td>0.065789</td>\n",
              "      <td>0.013158</td>\n",
              "      <td>0.092105</td>\n",
              "      <td>0.565789</td>\n",
              "      <td>0.065789</td>\n",
              "      <td>NaN</td>\n",
              "      <td>NaN</td>\n",
              "      <td>NaN</td>\n",
              "      <td>NaN</td>\n",
              "      <td>NaN</td>\n",
              "      <td>NaN</td>\n",
              "      <td>NaN</td>\n",
              "      <td>NaN</td>\n",
              "      <td>NaN</td>\n",
              "      <td>NaN</td>\n",
              "      <td>NaN</td>\n",
              "      <td>NaN</td>\n",
              "      <td>NaN</td>\n",
              "      <td>NaN</td>\n",
              "      <td>NaN</td>\n",
              "      <td>NaN</td>\n",
              "      <td>NaN</td>\n",
              "      <td>NaN</td>\n",
              "      <td>NaN</td>\n",
              "      <td>NaN</td>\n",
              "      <td>NaN</td>\n",
              "      <td>NaN</td>\n",
              "      <td>NaN</td>\n",
              "      <td>NaN</td>\n",
              "      <td>0</td>\n",
              "      <td>76</td>\n",
              "    </tr>\n",
              "    <tr>\n",
              "      <th>2</th>\n",
              "      <td>5902188</td>\n",
              "      <td>And Trump continues his lifelong cowardice by ...</td>\n",
              "      <td>2017-09-05 19:05:32.341360+00</td>\n",
              "      <td>55</td>\n",
              "      <td>NaN</td>\n",
              "      <td>374342</td>\n",
              "      <td>approved</td>\n",
              "      <td>1</td>\n",
              "      <td>0</td>\n",
              "      <td>2</td>\n",
              "      <td>3</td>\n",
              "      <td>7</td>\n",
              "      <td>0.666667</td>\n",
              "      <td>0.015873</td>\n",
              "      <td>0.031746</td>\n",
              "      <td>0.000000</td>\n",
              "      <td>0.047619</td>\n",
              "      <td>0.666667</td>\n",
              "      <td>0.000000</td>\n",
              "      <td>NaN</td>\n",
              "      <td>NaN</td>\n",
              "      <td>NaN</td>\n",
              "      <td>NaN</td>\n",
              "      <td>NaN</td>\n",
              "      <td>NaN</td>\n",
              "      <td>NaN</td>\n",
              "      <td>NaN</td>\n",
              "      <td>NaN</td>\n",
              "      <td>NaN</td>\n",
              "      <td>NaN</td>\n",
              "      <td>NaN</td>\n",
              "      <td>NaN</td>\n",
              "      <td>NaN</td>\n",
              "      <td>NaN</td>\n",
              "      <td>NaN</td>\n",
              "      <td>NaN</td>\n",
              "      <td>NaN</td>\n",
              "      <td>NaN</td>\n",
              "      <td>NaN</td>\n",
              "      <td>NaN</td>\n",
              "      <td>NaN</td>\n",
              "      <td>NaN</td>\n",
              "      <td>NaN</td>\n",
              "      <td>0</td>\n",
              "      <td>63</td>\n",
              "    </tr>\n",
              "    <tr>\n",
              "      <th>3</th>\n",
              "      <td>5410943</td>\n",
              "      <td>Tucker and Paul are both total bad ass mofo's.</td>\n",
              "      <td>2017-06-14 05:08:21.997315+00</td>\n",
              "      <td>21</td>\n",
              "      <td>NaN</td>\n",
              "      <td>344096</td>\n",
              "      <td>approved</td>\n",
              "      <td>0</td>\n",
              "      <td>0</td>\n",
              "      <td>0</td>\n",
              "      <td>1</td>\n",
              "      <td>0</td>\n",
              "      <td>0.550000</td>\n",
              "      <td>0.037500</td>\n",
              "      <td>0.337500</td>\n",
              "      <td>0.275000</td>\n",
              "      <td>0.037500</td>\n",
              "      <td>0.487500</td>\n",
              "      <td>0.000000</td>\n",
              "      <td>NaN</td>\n",
              "      <td>NaN</td>\n",
              "      <td>NaN</td>\n",
              "      <td>NaN</td>\n",
              "      <td>NaN</td>\n",
              "      <td>NaN</td>\n",
              "      <td>NaN</td>\n",
              "      <td>NaN</td>\n",
              "      <td>NaN</td>\n",
              "      <td>NaN</td>\n",
              "      <td>NaN</td>\n",
              "      <td>NaN</td>\n",
              "      <td>NaN</td>\n",
              "      <td>NaN</td>\n",
              "      <td>NaN</td>\n",
              "      <td>NaN</td>\n",
              "      <td>NaN</td>\n",
              "      <td>NaN</td>\n",
              "      <td>NaN</td>\n",
              "      <td>NaN</td>\n",
              "      <td>NaN</td>\n",
              "      <td>NaN</td>\n",
              "      <td>NaN</td>\n",
              "      <td>NaN</td>\n",
              "      <td>0</td>\n",
              "      <td>80</td>\n",
              "    </tr>\n",
              "    <tr>\n",
              "      <th>4</th>\n",
              "      <td>6290444</td>\n",
              "      <td>Cry me a river, why don't you.\\nDrinking, drug...</td>\n",
              "      <td>2017-11-04 22:04:11.596185+00</td>\n",
              "      <td>54</td>\n",
              "      <td>6290143.0</td>\n",
              "      <td>396946</td>\n",
              "      <td>rejected</td>\n",
              "      <td>0</td>\n",
              "      <td>0</td>\n",
              "      <td>0</td>\n",
              "      <td>0</td>\n",
              "      <td>0</td>\n",
              "      <td>0.203390</td>\n",
              "      <td>0.016949</td>\n",
              "      <td>0.050847</td>\n",
              "      <td>0.000000</td>\n",
              "      <td>0.033898</td>\n",
              "      <td>0.203390</td>\n",
              "      <td>0.000000</td>\n",
              "      <td>NaN</td>\n",
              "      <td>NaN</td>\n",
              "      <td>NaN</td>\n",
              "      <td>NaN</td>\n",
              "      <td>NaN</td>\n",
              "      <td>NaN</td>\n",
              "      <td>NaN</td>\n",
              "      <td>NaN</td>\n",
              "      <td>NaN</td>\n",
              "      <td>NaN</td>\n",
              "      <td>NaN</td>\n",
              "      <td>NaN</td>\n",
              "      <td>NaN</td>\n",
              "      <td>NaN</td>\n",
              "      <td>NaN</td>\n",
              "      <td>NaN</td>\n",
              "      <td>NaN</td>\n",
              "      <td>NaN</td>\n",
              "      <td>NaN</td>\n",
              "      <td>NaN</td>\n",
              "      <td>NaN</td>\n",
              "      <td>NaN</td>\n",
              "      <td>NaN</td>\n",
              "      <td>NaN</td>\n",
              "      <td>0</td>\n",
              "      <td>59</td>\n",
              "    </tr>\n",
              "  </tbody>\n",
              "</table>\n",
              "</div>\n",
              "      <button class=\"colab-df-convert\" onclick=\"convertToInteractive('df-3e6cd29e-b06c-4c54-891e-75b32782e456')\"\n",
              "              title=\"Convert this dataframe to an interactive table.\"\n",
              "              style=\"display:none;\">\n",
              "        \n",
              "  <svg xmlns=\"http://www.w3.org/2000/svg\" height=\"24px\"viewBox=\"0 0 24 24\"\n",
              "       width=\"24px\">\n",
              "    <path d=\"M0 0h24v24H0V0z\" fill=\"none\"/>\n",
              "    <path d=\"M18.56 5.44l.94 2.06.94-2.06 2.06-.94-2.06-.94-.94-2.06-.94 2.06-2.06.94zm-11 1L8.5 8.5l.94-2.06 2.06-.94-2.06-.94L8.5 2.5l-.94 2.06-2.06.94zm10 10l.94 2.06.94-2.06 2.06-.94-2.06-.94-.94-2.06-.94 2.06-2.06.94z\"/><path d=\"M17.41 7.96l-1.37-1.37c-.4-.4-.92-.59-1.43-.59-.52 0-1.04.2-1.43.59L10.3 9.45l-7.72 7.72c-.78.78-.78 2.05 0 2.83L4 21.41c.39.39.9.59 1.41.59.51 0 1.02-.2 1.41-.59l7.78-7.78 2.81-2.81c.8-.78.8-2.07 0-2.86zM5.41 20L4 18.59l7.72-7.72 1.47 1.35L5.41 20z\"/>\n",
              "  </svg>\n",
              "      </button>\n",
              "      \n",
              "  <style>\n",
              "    .colab-df-container {\n",
              "      display:flex;\n",
              "      flex-wrap:wrap;\n",
              "      gap: 12px;\n",
              "    }\n",
              "\n",
              "    .colab-df-convert {\n",
              "      background-color: #E8F0FE;\n",
              "      border: none;\n",
              "      border-radius: 50%;\n",
              "      cursor: pointer;\n",
              "      display: none;\n",
              "      fill: #1967D2;\n",
              "      height: 32px;\n",
              "      padding: 0 0 0 0;\n",
              "      width: 32px;\n",
              "    }\n",
              "\n",
              "    .colab-df-convert:hover {\n",
              "      background-color: #E2EBFA;\n",
              "      box-shadow: 0px 1px 2px rgba(60, 64, 67, 0.3), 0px 1px 3px 1px rgba(60, 64, 67, 0.15);\n",
              "      fill: #174EA6;\n",
              "    }\n",
              "\n",
              "    [theme=dark] .colab-df-convert {\n",
              "      background-color: #3B4455;\n",
              "      fill: #D2E3FC;\n",
              "    }\n",
              "\n",
              "    [theme=dark] .colab-df-convert:hover {\n",
              "      background-color: #434B5C;\n",
              "      box-shadow: 0px 1px 3px 1px rgba(0, 0, 0, 0.15);\n",
              "      filter: drop-shadow(0px 1px 2px rgba(0, 0, 0, 0.3));\n",
              "      fill: #FFFFFF;\n",
              "    }\n",
              "  </style>\n",
              "\n",
              "      <script>\n",
              "        const buttonEl =\n",
              "          document.querySelector('#df-3e6cd29e-b06c-4c54-891e-75b32782e456 button.colab-df-convert');\n",
              "        buttonEl.style.display =\n",
              "          google.colab.kernel.accessAllowed ? 'block' : 'none';\n",
              "\n",
              "        async function convertToInteractive(key) {\n",
              "          const element = document.querySelector('#df-3e6cd29e-b06c-4c54-891e-75b32782e456');\n",
              "          const dataTable =\n",
              "            await google.colab.kernel.invokeFunction('convertToInteractive',\n",
              "                                                     [key], {});\n",
              "          if (!dataTable) return;\n",
              "\n",
              "          const docLinkHtml = 'Like what you see? Visit the ' +\n",
              "            '<a target=\"_blank\" href=https://colab.research.google.com/notebooks/data_table.ipynb>data table notebook</a>'\n",
              "            + ' to learn more about interactive tables.';\n",
              "          element.innerHTML = '';\n",
              "          dataTable['output_type'] = 'display_data';\n",
              "          await google.colab.output.renderOutput(dataTable, element);\n",
              "          const docLink = document.createElement('div');\n",
              "          docLink.innerHTML = docLinkHtml;\n",
              "          element.appendChild(docLink);\n",
              "        }\n",
              "      </script>\n",
              "    </div>\n",
              "  </div>\n",
              "  "
            ],
            "text/plain": [
              "        id  ... toxicity_annotator_count\n",
              "0  1083994  ...                       67\n",
              "1   650904  ...                       76\n",
              "2  5902188  ...                       63\n",
              "3  5410943  ...                       80\n",
              "4  6290444  ...                       59\n",
              "\n",
              "[5 rows x 45 columns]"
            ]
          },
          "metadata": {},
          "execution_count": 8
        }
      ]
    },
    {
      "cell_type": "code",
      "source": [
        "train.shape"
      ],
      "metadata": {
        "colab": {
          "base_uri": "https://localhost:8080/"
        },
        "id": "DHuyHa-9WkcJ",
        "outputId": "cd5b9559-4928-4f1a-8e7c-487c20df0c69"
      },
      "execution_count": null,
      "outputs": [
        {
          "output_type": "execute_result",
          "data": {
            "text/plain": [
              "(1804875, 45)"
            ]
          },
          "metadata": {},
          "execution_count": 9
        }
      ]
    },
    {
      "cell_type": "code",
      "source": [
        "train.isnull().sum()"
      ],
      "metadata": {
        "colab": {
          "base_uri": "https://localhost:8080/"
        },
        "id": "FtObCPoRWtIF",
        "outputId": "6b26edd0-7e7e-4eee-d07a-afa389f10948"
      },
      "execution_count": null,
      "outputs": [
        {
          "output_type": "execute_result",
          "data": {
            "text/plain": [
              "id                                           0\n",
              "comment_text                                 1\n",
              "created_date                                 0\n",
              "publication_id                               0\n",
              "parent_id                               778646\n",
              "article_id                                   0\n",
              "rating                                       0\n",
              "funny                                        0\n",
              "wow                                          0\n",
              "sad                                          0\n",
              "likes                                        0\n",
              "disagree                                     0\n",
              "toxicity                                     0\n",
              "severe_toxicity                              0\n",
              "obscene                                      0\n",
              "sexual_explicit                              0\n",
              "identity_attack                              0\n",
              "insult                                       0\n",
              "threat                                       0\n",
              "male                                   1399745\n",
              "female                                 1399745\n",
              "transgender                            1399745\n",
              "other_gender                           1399745\n",
              "heterosexual                           1399745\n",
              "homosexual_gay_or_lesbian              1399745\n",
              "bisexual                               1399745\n",
              "other_sexual_orientation               1399745\n",
              "christian                              1399745\n",
              "jewish                                 1399745\n",
              "muslim                                 1399745\n",
              "hindu                                  1399745\n",
              "buddhist                               1399745\n",
              "atheist                                1399745\n",
              "other_religion                         1399745\n",
              "black                                  1399745\n",
              "white                                  1399745\n",
              "asian                                  1399745\n",
              "latino                                 1399745\n",
              "other_race_or_ethnicity                1399745\n",
              "physical_disability                    1399745\n",
              "intellectual_or_learning_disability    1399745\n",
              "psychiatric_or_mental_illness          1399745\n",
              "other_disability                       1399745\n",
              "identity_annotator_count                     0\n",
              "toxicity_annotator_count                     0\n",
              "dtype: int64"
            ]
          },
          "metadata": {},
          "execution_count": 10
        }
      ]
    },
    {
      "cell_type": "code",
      "source": [
        "train['female'].value_counts()"
      ],
      "metadata": {
        "colab": {
          "base_uri": "https://localhost:8080/"
        },
        "id": "ndQ2qZLuWwnE",
        "outputId": "60ad5bb8-753a-479b-9f48-8ea1c5f665cb"
      },
      "execution_count": null,
      "outputs": [
        {
          "output_type": "execute_result",
          "data": {
            "text/plain": [
              "0.000000    331440\n",
              "1.000000     30189\n",
              "0.833333      5915\n",
              "0.800000      5382\n",
              "0.166667      5099\n",
              "             ...  \n",
              "0.098361         1\n",
              "0.008997         1\n",
              "0.980769         1\n",
              "0.976567         1\n",
              "0.141264         1\n",
              "Name: female, Length: 204, dtype: int64"
            ]
          },
          "metadata": {},
          "execution_count": 11
        }
      ]
    },
    {
      "cell_type": "markdown",
      "source": [
        "NaN values are mostly in features of the comment i.e. towards which gender, color, race etc. they are directed towards. So the data is more or less does not require any imputing. "
      ],
      "metadata": {
        "id": "bd0rSPm02hAf"
      }
    },
    {
      "cell_type": "markdown",
      "source": [
        "#Data Balance"
      ],
      "metadata": {
        "id": "Efwvugvd0FEH"
      }
    },
    {
      "cell_type": "code",
      "source": [
        "toxic = []\n",
        "#making comments which have probability more than 0.5 as toxic and marking them as 1 while non-toxic as 0\n",
        "for i in train['toxicity']:\n",
        "     if i > 0.5:\n",
        "        toxic.append(1)\n",
        "     else:\n",
        "        toxic.append(0)\n",
        "\n",
        "train['toxic_binary'] = toxic"
      ],
      "metadata": {
        "id": "RSlS9NMTYAhj"
      },
      "execution_count": null,
      "outputs": []
    },
    {
      "cell_type": "code",
      "source": [
        "train['toxic_binary'].value_counts()"
      ],
      "metadata": {
        "colab": {
          "base_uri": "https://localhost:8080/"
        },
        "id": "RTg9gILZYyFd",
        "outputId": "23efebd2-f8cc-45d1-b624-8389354c8a43"
      },
      "execution_count": null,
      "outputs": [
        {
          "output_type": "execute_result",
          "data": {
            "text/plain": [
              "0    1698437\n",
              "1     106438\n",
              "Name: toxic_binary, dtype: int64"
            ]
          },
          "metadata": {},
          "execution_count": 11
        }
      ]
    },
    {
      "cell_type": "code",
      "source": [
        "data_balance = train['toxic_binary'].value_counts().plot.bar(color=['#9AEAAA','#9A62AA'])\n",
        "data_balance.set_xlabel('Toxic and Non-Toxic Categories')\n",
        "data_balance.set_ylabel('Frequency')"
      ],
      "metadata": {
        "colab": {
          "base_uri": "https://localhost:8080/",
          "height": 304
        },
        "id": "O031vv8YazuD",
        "outputId": "67faea29-5474-47f7-b03b-da30d2a8a184"
      },
      "execution_count": null,
      "outputs": [
        {
          "output_type": "execute_result",
          "data": {
            "text/plain": [
              "Text(0, 0.5, 'Frequency')"
            ]
          },
          "metadata": {},
          "execution_count": 16
        },
        {
          "output_type": "display_data",
          "data": {
            "image/png": "[encoded data removed]",
            "text/plain": [
              "<Figure size 432x288 with 1 Axes>"
            ]
          },
          "metadata": {
            "needs_background": "light"
          }
        }
      ]
    },
    {
      "cell_type": "markdown",
      "source": [
        "Expectedly, there are more non-toxic comments than toxic comments. "
      ],
      "metadata": {
        "id": "eYiSMx8F3Cdi"
      }
    },
    {
      "cell_type": "markdown",
      "source": [
        "#Sub-toxic categories"
      ],
      "metadata": {
        "id": "Y8KYWnJm0bNR"
      }
    },
    {
      "cell_type": "code",
      "source": [
        "train['sub_toxic'] = train[['severe_toxicity','obscene','sexual_explicit', 'identity_attack','insult', 'threat']].idxmax(axis=1)"
      ],
      "metadata": {
        "id": "6x3ZWWbShSsQ"
      },
      "execution_count": null,
      "outputs": []
    },
    {
      "cell_type": "code",
      "source": [
        "sub_toxic = []\n",
        "for j in range(len(train)):\n",
        "   if train['toxic_binary'][j] == 1:\n",
        "      if train['sub_toxic'][j] == 'severe_toxicity':\n",
        "          sub_toxic.append('severe_toxicity')  \n",
        "      if train['sub_toxic'][j] == 'obscene':  \n",
        "          sub_toxic.append('obscene')\n",
        "      if train['sub_toxic'][j] == 'sexual_explicit': \n",
        "          sub_toxic.append('sexual_explicit')\n",
        "      if train['sub_toxic'][j] == 'identity_attack':     \n",
        "          sub_toxic.append('identity_attack')\n",
        "      if train['sub_toxic'][j] == 'insult': \n",
        "          sub_toxic.append('insult')\n",
        "      if train['sub_toxic'][j] == 'threat':   \n",
        "          sub_toxic.append('threat')"
      ],
      "metadata": {
        "id": "ooC22Ah4dfIp"
      },
      "execution_count": null,
      "outputs": []
    },
    {
      "cell_type": "code",
      "source": [
        "len(sub_toxic)"
      ],
      "metadata": {
        "colab": {
          "base_uri": "https://localhost:8080/"
        },
        "id": "SsbxiyBsj2Mw",
        "outputId": "8c66817a-b4d2-4eb9-daa0-7470a9f7e50d"
      },
      "execution_count": null,
      "outputs": [
        {
          "output_type": "execute_result",
          "data": {
            "text/plain": [
              "106438"
            ]
          },
          "metadata": {},
          "execution_count": 19
        }
      ]
    },
    {
      "cell_type": "code",
      "source": [
        "sub = pd.DataFrame(sub_toxic)"
      ],
      "metadata": {
        "id": "a-BWo7gkmZWC"
      },
      "execution_count": null,
      "outputs": []
    },
    {
      "cell_type": "code",
      "source": [
        "sub.value_counts().sum()"
      ],
      "metadata": {
        "colab": {
          "base_uri": "https://localhost:8080/"
        },
        "id": "DVi25-5Wnkdo",
        "outputId": "6fcfac26-a904-4b33-dcdf-5ef36006ca68"
      },
      "execution_count": null,
      "outputs": [
        {
          "output_type": "execute_result",
          "data": {
            "text/plain": [
              "106438"
            ]
          },
          "metadata": {},
          "execution_count": 21
        }
      ]
    },
    {
      "cell_type": "code",
      "source": [
        "sub.value_counts()"
      ],
      "metadata": {
        "colab": {
          "base_uri": "https://localhost:8080/"
        },
        "id": "Mjsg-oVnnuXf",
        "outputId": "b88e0cf9-69c9-4d3d-e5aa-a32b9feafb9f"
      },
      "execution_count": null,
      "outputs": [
        {
          "output_type": "execute_result",
          "data": {
            "text/plain": [
              "insult             85059\n",
              "identity_attack     8583\n",
              "obscene             6627\n",
              "threat              3454\n",
              "sexual_explicit     2715\n",
              "dtype: int64"
            ]
          },
          "metadata": {},
          "execution_count": 22
        }
      ]
    },
    {
      "cell_type": "code",
      "source": [
        "sub_plot = sub.value_counts().plot.bar(color=['#9AEAAA','#9A62AA', '#008000', '#FF0000', '#800080', '#800090','#800060'])\n",
        "sub_plot.set_xlabel('Subcategories of toxicity')\n",
        "sub_plot.set_ylabel('Frequency')"
      ],
      "metadata": {
        "colab": {
          "base_uri": "https://localhost:8080/",
          "height": 372
        },
        "id": "OELhE1SVkGti",
        "outputId": "5e528b42-678f-4b6f-8815-7faace2c8162"
      },
      "execution_count": null,
      "outputs": [
        {
          "output_type": "execute_result",
          "data": {
            "text/plain": [
              "Text(0, 0.5, 'Frequency')"
            ]
          },
          "metadata": {},
          "execution_count": 24
        },
        {
          "output_type": "display_data",
          "data": {
            "image/png": "[encoded data removed]",
            "text/plain": [
              "<Figure size 432x288 with 1 Axes>"
            ]
          },
          "metadata": {
            "needs_background": "light"
          }
        }
      ]
    },
    {
      "cell_type": "markdown",
      "source": [
        "Insult sub-category in toxic comments is clearly the highest and none of the comments have severe toxicity. Other sub-categories are more or less equally distributed. "
      ],
      "metadata": {
        "id": "q96ZChAK3iYX"
      }
    },
    {
      "cell_type": "markdown",
      "source": [
        "#Most frequent words"
      ],
      "metadata": {
        "id": "DkeqIw2x0i4J"
      }
    },
    {
      "cell_type": "code",
      "source": [
        "import nltk\n",
        "from nltk.corpus import stopwords\n",
        "from nltk.tokenize import word_tokenize\n",
        "import re\n",
        "nltk.download('stopwords')\n",
        "nltk.download('punkt')\n",
        "nltk.download('wordnet')\n",
        "\n",
        "stop = set(stopwords.words('english'))\n",
        "\n",
        "def clean(text):\n",
        "  text_token = word_tokenize(text)\n",
        "  filtered_text = ' '.join([w.lower() for w in text_token if w.lower() not in stop and len(w) > 2])\n",
        "  filtered_text = filtered_text.replace(r\"[^a-zA-Z]+\", '')\n",
        "  text_only = re.sub(r'\\b\\d+\\b', '', filtered_text)\n",
        "  clean_text = text_only.replace(',', '').replace('.', '').replace(':', '')\n",
        "  return clean_text"
      ],
      "metadata": {
        "colab": {
          "base_uri": "https://localhost:8080/"
        },
        "id": "HQW5l28T7sQI",
        "outputId": "705de9e4-687d-4340-f992-dd88ccbd11df"
      },
      "execution_count": null,
      "outputs": [
        {
          "output_type": "stream",
          "name": "stdout",
          "text": [
            "[nltk_data] Downloading package stopwords to /root/nltk_data...\n",
            "[nltk_data]   Unzipping corpora/stopwords.zip.\n",
            "[nltk_data] Downloading package punkt to /root/nltk_data...\n",
            "[nltk_data]   Unzipping tokenizers/punkt.zip.\n",
            "[nltk_data] Downloading package wordnet to /root/nltk_data...\n",
            "[nltk_data]   Unzipping corpora/wordnet.zip.\n"
          ]
        }
      ]
    },
    {
      "cell_type": "code",
      "source": [
        "train['clean_comment'] = [clean(str(x)) for x in train['comment_text']]"
      ],
      "metadata": {
        "id": "FJR0UTBw74fw"
      },
      "execution_count": null,
      "outputs": []
    },
    {
      "cell_type": "code",
      "source": [
        "from wordcloud import WordCloud, STOPWORDS"
      ],
      "metadata": {
        "id": "l0QcAAui5twQ"
      },
      "execution_count": null,
      "outputs": []
    },
    {
      "cell_type": "code",
      "source": [
        "text = \"\"\n",
        "for ind, row in train.loc[train['toxic_binary']== 1].iterrows():\n",
        "    text += str(row[\"clean_comment\"]) + \" \"\n",
        "text = text.strip()\n",
        "\n",
        "wordcloud = WordCloud(background_color='white', width=600, height=300, max_font_size=100, max_words=40).generate(text)\n",
        "wordcloud.recolor(random_state=ind*312)\n",
        "plt.imshow(wordcloud)\n",
        "plt.axis(\"off\")\n",
        "plt.show()"
      ],
      "metadata": {
        "colab": {
          "base_uri": "https://localhost:8080/",
          "height": 198
        },
        "id": "mPCvWdeRlaXh",
        "outputId": "a51fbee3-b2be-4b5a-aa6e-67eff9ec745d"
      },
      "execution_count": null,
      "outputs": [
        {
          "output_type": "display_data",
          "data": {
            "image/png": "[encoded data removed]",
            "text/plain": [
              "<Figure size 432x288 with 1 Axes>"
            ]
          },
          "metadata": {
            "needs_background": "light"
          }
        }
      ]
    },
    {
      "cell_type": "markdown",
      "source": [
        "Trump, stupid, idiot, racist etc. are the most common words in toxic comments. "
      ],
      "metadata": {
        "id": "XI_gV9Lb37kr"
      }
    },
    {
      "cell_type": "code",
      "source": [
        "text = \"\"\n",
        "for ind, row in train.loc[train['sub_toxic'] == 'obscene'].iterrows():\n",
        "    text += str(row[\"clean_comment\"]) + \" \"\n",
        "text = text.strip()\n",
        "\n",
        "wordcloud = WordCloud(background_color='white', width=600, height=300, max_font_size=100, max_words=40).generate(text)\n",
        "wordcloud.recolor(random_state=ind*312)\n",
        "plt.imshow(wordcloud)\n",
        "plt.axis(\"off\")\n",
        "plt.show()"
      ],
      "metadata": {
        "colab": {
          "base_uri": "https://localhost:8080/",
          "height": 198
        },
        "id": "mnDwVGiHqtPg",
        "outputId": "5ab53aa0-03de-413f-9184-4b19406438b7"
      },
      "execution_count": null,
      "outputs": [
        {
          "output_type": "display_data",
          "data": {
            "image/png": "[encoded data removed]",
            "text/plain": [
              "<Figure size 432x288 with 1 Axes>"
            ]
          },
          "metadata": {
            "needs_background": "light"
          }
        }
      ]
    },
    {
      "cell_type": "markdown",
      "source": [
        "one, canada, think, problem are some of the common words in sub-category obscene. "
      ],
      "metadata": {
        "id": "i0o01EF-4Oeb"
      }
    },
    {
      "cell_type": "code",
      "source": [
        "text = \"\"\n",
        "for ind, row in train.loc[train['sub_toxic'] == 'sexual_explicit'].iterrows():\n",
        "    text += str(row[\"clean_comment\"]) + \" \"\n",
        "text = text.strip()\n",
        "\n",
        "wordcloud = WordCloud(background_color='white', width=600, height=300, max_font_size=100, max_words=40).generate(text)\n",
        "wordcloud.recolor(random_state=ind*312)\n",
        "plt.imshow(wordcloud)\n",
        "plt.axis(\"off\")\n",
        "plt.show()"
      ],
      "metadata": {
        "colab": {
          "base_uri": "https://localhost:8080/",
          "height": 198
        },
        "id": "cEG9zG4f20_F",
        "outputId": "6af01f33-3593-495d-f0c1-74d0b449b744"
      },
      "execution_count": null,
      "outputs": [
        {
          "output_type": "display_data",
          "data": {
            "image/png": "[encoded data removed]",
            "text/plain": [
              "<Figure size 432x288 with 1 Axes>"
            ]
          },
          "metadata": {
            "needs_background": "light"
          }
        }
      ]
    },
    {
      "cell_type": "markdown",
      "source": [
        "Trump, sex, victim, woman, rape, case are some of the most common words in sub-category sexual explicit."
      ],
      "metadata": {
        "id": "DQ8fR_Sl4fPQ"
      }
    },
    {
      "cell_type": "code",
      "source": [
        "text = \"\"\n",
        "for ind, row in train.loc[train['sub_toxic'] == 'identity_attack'].iterrows():\n",
        "    text += str(row[\"clean_comment\"]) + \" \"\n",
        "text = text.strip()\n",
        "\n",
        "wordcloud = WordCloud(background_color='white', width=600, height=300, max_font_size=100, max_words=40).generate(text)\n",
        "wordcloud.recolor(random_state=ind*312)\n",
        "plt.imshow(wordcloud)\n",
        "plt.axis(\"off\")\n",
        "plt.show()"
      ],
      "metadata": {
        "colab": {
          "base_uri": "https://localhost:8080/",
          "height": 198
        },
        "id": "mX_PGi6K6YnM",
        "outputId": "445746a7-f6b8-436e-e544-b6ba730c2aeb"
      },
      "execution_count": null,
      "outputs": [
        {
          "output_type": "display_data",
          "data": {
            "image/png": "[encoded data removed]",
            "text/plain": [
              "<Figure size 432x288 with 1 Axes>"
            ]
          },
          "metadata": {
            "needs_background": "light"
          }
        }
      ]
    },
    {
      "cell_type": "markdown",
      "source": [
        "people, muslim, trump, canada, christian are some of the most common words in sub-category identity attack."
      ],
      "metadata": {
        "id": "EHR6OH-94q4x"
      }
    },
    {
      "cell_type": "code",
      "source": [
        "text = \"\"\n",
        "for ind, row in train.loc[train['sub_toxic'] == 'insult'].iterrows():\n",
        "    text += str(row[\"clean_comment\"]) + \" \"\n",
        "text = text.strip()\n",
        "\n",
        "wordcloud = WordCloud(background_color='white', width=600, height=300, max_font_size=100, max_words=40).generate(text)\n",
        "wordcloud.recolor(random_state=ind*312)\n",
        "plt.imshow(wordcloud)\n",
        "plt.axis(\"off\")\n",
        "plt.show()"
      ],
      "metadata": {
        "colab": {
          "base_uri": "https://localhost:8080/",
          "height": 198
        },
        "id": "e8KkS64c6sXP",
        "outputId": "1677911a-4657-44da-a9f9-f234d6acab5c"
      },
      "execution_count": null,
      "outputs": [
        {
          "output_type": "display_data",
          "data": {
            "image/png": "[encoded data removed]",
            "text/plain": [
              "<Figure size 432x288 with 1 Axes>"
            ]
          },
          "metadata": {
            "needs_background": "light"
          }
        }
      ]
    },
    {
      "cell_type": "markdown",
      "source": [
        "Trump, Canada, liberal, government are some of the most common words in sub-category insult."
      ],
      "metadata": {
        "id": "d4HvmQV644WQ"
      }
    },
    {
      "cell_type": "code",
      "source": [
        "text = \"\"\n",
        "for ind, row in train.loc[train['sub_toxic'] == 'threat'].iterrows():\n",
        "    text += str(row[\"clean_comment\"]) + \" \"\n",
        "text = text.strip()\n",
        "\n",
        "wordcloud = WordCloud(background_color='white', width=600, height=300, max_font_size=100, max_words=40).generate(text)\n",
        "wordcloud.recolor(random_state=ind*312)\n",
        "plt.imshow(wordcloud)\n",
        "plt.axis(\"off\")\n",
        "plt.show()"
      ],
      "metadata": {
        "colab": {
          "base_uri": "https://localhost:8080/",
          "height": 198
        },
        "id": "n5r3DICb61Ys",
        "outputId": "6dd45af7-e783-47df-c263-f8d47f198ea8"
      },
      "execution_count": null,
      "outputs": [
        {
          "output_type": "display_data",
          "data": {
            "image/png": "[encoded data removed]",
            "text/plain": [
              "<Figure size 432x288 with 1 Axes>"
            ]
          },
          "metadata": {
            "needs_background": "light"
          }
        }
      ]
    },
    {
      "cell_type": "markdown",
      "source": [
        "Trump, death, kill, gun are some of the most common words in sub-category threat."
      ],
      "metadata": {
        "id": "6xliwF4D5I6n"
      }
    },
    {
      "cell_type": "markdown",
      "source": [
        "#Distribution of toxic category:- rating"
      ],
      "metadata": {
        "id": "qOG7HZMO0ta0"
      }
    },
    {
      "cell_type": "code",
      "source": [
        "toxic_df = train.loc[train['toxic_binary']==1]"
      ],
      "metadata": {
        "id": "a0H_Wxe_7aCp"
      },
      "execution_count": null,
      "outputs": []
    },
    {
      "cell_type": "code",
      "source": [
        "toxic_df = toxic_df.reset_index(drop=True)\n",
        "toxic_df.head(5)"
      ],
      "metadata": {
        "colab": {
          "base_uri": "https://localhost:8080/",
          "height": 548
        },
        "id": "0rtk5Awpd0Xg",
        "outputId": "d1af1624-7db8-4380-bac8-7e918f92ec91"
      },
      "execution_count": null,
      "outputs": [
        {
          "output_type": "execute_result",
          "data": {
            "text/html": [
              "\n",
              "  <div id=\"df-812f150f-4872-4782-b94b-6e392baf469c\">\n",
              "    <div class=\"colab-df-container\">\n",
              "      <div>\n",
              "<style scoped>\n",
              "    .dataframe tbody tr th:only-of-type {\n",
              "        vertical-align: middle;\n",
              "    }\n",
              "\n",
              "    .dataframe tbody tr th {\n",
              "        vertical-align: top;\n",
              "    }\n",
              "\n",
              "    .dataframe thead th {\n",
              "        text-align: right;\n",
              "    }\n",
              "</style>\n",
              "<table border=\"1\" class=\"dataframe\">\n",
              "  <thead>\n",
              "    <tr style=\"text-align: right;\">\n",
              "      <th></th>\n",
              "      <th>id</th>\n",
              "      <th>comment_text</th>\n",
              "      <th>created_date</th>\n",
              "      <th>publication_id</th>\n",
              "      <th>parent_id</th>\n",
              "      <th>article_id</th>\n",
              "      <th>rating</th>\n",
              "      <th>funny</th>\n",
              "      <th>wow</th>\n",
              "      <th>sad</th>\n",
              "      <th>likes</th>\n",
              "      <th>disagree</th>\n",
              "      <th>toxicity</th>\n",
              "      <th>severe_toxicity</th>\n",
              "      <th>obscene</th>\n",
              "      <th>sexual_explicit</th>\n",
              "      <th>identity_attack</th>\n",
              "      <th>insult</th>\n",
              "      <th>threat</th>\n",
              "      <th>male</th>\n",
              "      <th>female</th>\n",
              "      <th>transgender</th>\n",
              "      <th>other_gender</th>\n",
              "      <th>heterosexual</th>\n",
              "      <th>homosexual_gay_or_lesbian</th>\n",
              "      <th>bisexual</th>\n",
              "      <th>other_sexual_orientation</th>\n",
              "      <th>christian</th>\n",
              "      <th>jewish</th>\n",
              "      <th>muslim</th>\n",
              "      <th>hindu</th>\n",
              "      <th>buddhist</th>\n",
              "      <th>atheist</th>\n",
              "      <th>other_religion</th>\n",
              "      <th>black</th>\n",
              "      <th>white</th>\n",
              "      <th>asian</th>\n",
              "      <th>latino</th>\n",
              "      <th>other_race_or_ethnicity</th>\n",
              "      <th>physical_disability</th>\n",
              "      <th>intellectual_or_learning_disability</th>\n",
              "      <th>psychiatric_or_mental_illness</th>\n",
              "      <th>other_disability</th>\n",
              "      <th>identity_annotator_count</th>\n",
              "      <th>toxicity_annotator_count</th>\n",
              "      <th>toxic_binary</th>\n",
              "      <th>sub_toxic</th>\n",
              "    </tr>\n",
              "  </thead>\n",
              "  <tbody>\n",
              "    <tr>\n",
              "      <th>0</th>\n",
              "      <td>650904</td>\n",
              "      <td>Mad dog will surely put the liberals in mental...</td>\n",
              "      <td>2016-12-02 16:44:21.329535+00</td>\n",
              "      <td>21</td>\n",
              "      <td>NaN</td>\n",
              "      <td>154086</td>\n",
              "      <td>approved</td>\n",
              "      <td>0</td>\n",
              "      <td>0</td>\n",
              "      <td>1</td>\n",
              "      <td>2</td>\n",
              "      <td>0</td>\n",
              "      <td>0.605263</td>\n",
              "      <td>0.013158</td>\n",
              "      <td>0.065789</td>\n",
              "      <td>0.013158</td>\n",
              "      <td>0.092105</td>\n",
              "      <td>0.565789</td>\n",
              "      <td>0.065789</td>\n",
              "      <td>NaN</td>\n",
              "      <td>NaN</td>\n",
              "      <td>NaN</td>\n",
              "      <td>NaN</td>\n",
              "      <td>NaN</td>\n",
              "      <td>NaN</td>\n",
              "      <td>NaN</td>\n",
              "      <td>NaN</td>\n",
              "      <td>NaN</td>\n",
              "      <td>NaN</td>\n",
              "      <td>NaN</td>\n",
              "      <td>NaN</td>\n",
              "      <td>NaN</td>\n",
              "      <td>NaN</td>\n",
              "      <td>NaN</td>\n",
              "      <td>NaN</td>\n",
              "      <td>NaN</td>\n",
              "      <td>NaN</td>\n",
              "      <td>NaN</td>\n",
              "      <td>NaN</td>\n",
              "      <td>NaN</td>\n",
              "      <td>NaN</td>\n",
              "      <td>NaN</td>\n",
              "      <td>NaN</td>\n",
              "      <td>0</td>\n",
              "      <td>76</td>\n",
              "      <td>1</td>\n",
              "      <td>insult</td>\n",
              "    </tr>\n",
              "    <tr>\n",
              "      <th>1</th>\n",
              "      <td>5902188</td>\n",
              "      <td>And Trump continues his lifelong cowardice by ...</td>\n",
              "      <td>2017-09-05 19:05:32.341360+00</td>\n",
              "      <td>55</td>\n",
              "      <td>NaN</td>\n",
              "      <td>374342</td>\n",
              "      <td>approved</td>\n",
              "      <td>1</td>\n",
              "      <td>0</td>\n",
              "      <td>2</td>\n",
              "      <td>3</td>\n",
              "      <td>7</td>\n",
              "      <td>0.666667</td>\n",
              "      <td>0.015873</td>\n",
              "      <td>0.031746</td>\n",
              "      <td>0.000000</td>\n",
              "      <td>0.047619</td>\n",
              "      <td>0.666667</td>\n",
              "      <td>0.000000</td>\n",
              "      <td>NaN</td>\n",
              "      <td>NaN</td>\n",
              "      <td>NaN</td>\n",
              "      <td>NaN</td>\n",
              "      <td>NaN</td>\n",
              "      <td>NaN</td>\n",
              "      <td>NaN</td>\n",
              "      <td>NaN</td>\n",
              "      <td>NaN</td>\n",
              "      <td>NaN</td>\n",
              "      <td>NaN</td>\n",
              "      <td>NaN</td>\n",
              "      <td>NaN</td>\n",
              "      <td>NaN</td>\n",
              "      <td>NaN</td>\n",
              "      <td>NaN</td>\n",
              "      <td>NaN</td>\n",
              "      <td>NaN</td>\n",
              "      <td>NaN</td>\n",
              "      <td>NaN</td>\n",
              "      <td>NaN</td>\n",
              "      <td>NaN</td>\n",
              "      <td>NaN</td>\n",
              "      <td>NaN</td>\n",
              "      <td>0</td>\n",
              "      <td>63</td>\n",
              "      <td>1</td>\n",
              "      <td>insult</td>\n",
              "    </tr>\n",
              "    <tr>\n",
              "      <th>2</th>\n",
              "      <td>5410943</td>\n",
              "      <td>Tucker and Paul are both total bad ass mofo's.</td>\n",
              "      <td>2017-06-14 05:08:21.997315+00</td>\n",
              "      <td>21</td>\n",
              "      <td>NaN</td>\n",
              "      <td>344096</td>\n",
              "      <td>approved</td>\n",
              "      <td>0</td>\n",
              "      <td>0</td>\n",
              "      <td>0</td>\n",
              "      <td>1</td>\n",
              "      <td>0</td>\n",
              "      <td>0.550000</td>\n",
              "      <td>0.037500</td>\n",
              "      <td>0.337500</td>\n",
              "      <td>0.275000</td>\n",
              "      <td>0.037500</td>\n",
              "      <td>0.487500</td>\n",
              "      <td>0.000000</td>\n",
              "      <td>NaN</td>\n",
              "      <td>NaN</td>\n",
              "      <td>NaN</td>\n",
              "      <td>NaN</td>\n",
              "      <td>NaN</td>\n",
              "      <td>NaN</td>\n",
              "      <td>NaN</td>\n",
              "      <td>NaN</td>\n",
              "      <td>NaN</td>\n",
              "      <td>NaN</td>\n",
              "      <td>NaN</td>\n",
              "      <td>NaN</td>\n",
              "      <td>NaN</td>\n",
              "      <td>NaN</td>\n",
              "      <td>NaN</td>\n",
              "      <td>NaN</td>\n",
              "      <td>NaN</td>\n",
              "      <td>NaN</td>\n",
              "      <td>NaN</td>\n",
              "      <td>NaN</td>\n",
              "      <td>NaN</td>\n",
              "      <td>NaN</td>\n",
              "      <td>NaN</td>\n",
              "      <td>NaN</td>\n",
              "      <td>0</td>\n",
              "      <td>80</td>\n",
              "      <td>1</td>\n",
              "      <td>insult</td>\n",
              "    </tr>\n",
              "    <tr>\n",
              "      <th>3</th>\n",
              "      <td>5764010</td>\n",
              "      <td>I really wish the DP would bounce people tryin...</td>\n",
              "      <td>2017-08-14 09:02:12.901217+00</td>\n",
              "      <td>102</td>\n",
              "      <td>NaN</td>\n",
              "      <td>366182</td>\n",
              "      <td>approved</td>\n",
              "      <td>0</td>\n",
              "      <td>0</td>\n",
              "      <td>0</td>\n",
              "      <td>2</td>\n",
              "      <td>2</td>\n",
              "      <td>0.525000</td>\n",
              "      <td>0.012500</td>\n",
              "      <td>0.037500</td>\n",
              "      <td>0.000000</td>\n",
              "      <td>0.100000</td>\n",
              "      <td>0.462500</td>\n",
              "      <td>0.062500</td>\n",
              "      <td>NaN</td>\n",
              "      <td>NaN</td>\n",
              "      <td>NaN</td>\n",
              "      <td>NaN</td>\n",
              "      <td>NaN</td>\n",
              "      <td>NaN</td>\n",
              "      <td>NaN</td>\n",
              "      <td>NaN</td>\n",
              "      <td>NaN</td>\n",
              "      <td>NaN</td>\n",
              "      <td>NaN</td>\n",
              "      <td>NaN</td>\n",
              "      <td>NaN</td>\n",
              "      <td>NaN</td>\n",
              "      <td>NaN</td>\n",
              "      <td>NaN</td>\n",
              "      <td>NaN</td>\n",
              "      <td>NaN</td>\n",
              "      <td>NaN</td>\n",
              "      <td>NaN</td>\n",
              "      <td>NaN</td>\n",
              "      <td>NaN</td>\n",
              "      <td>NaN</td>\n",
              "      <td>NaN</td>\n",
              "      <td>0</td>\n",
              "      <td>80</td>\n",
              "      <td>1</td>\n",
              "      <td>insult</td>\n",
              "    </tr>\n",
              "    <tr>\n",
              "      <th>4</th>\n",
              "      <td>5167187</td>\n",
              "      <td>That's right. They are not normal. And I am st...</td>\n",
              "      <td>2017-04-23 05:37:53.975562+00</td>\n",
              "      <td>21</td>\n",
              "      <td>5166939.0</td>\n",
              "      <td>328935</td>\n",
              "      <td>rejected</td>\n",
              "      <td>0</td>\n",
              "      <td>0</td>\n",
              "      <td>0</td>\n",
              "      <td>0</td>\n",
              "      <td>0</td>\n",
              "      <td>0.803279</td>\n",
              "      <td>0.065574</td>\n",
              "      <td>0.049180</td>\n",
              "      <td>0.081967</td>\n",
              "      <td>0.131148</td>\n",
              "      <td>0.754098</td>\n",
              "      <td>0.016393</td>\n",
              "      <td>NaN</td>\n",
              "      <td>NaN</td>\n",
              "      <td>NaN</td>\n",
              "      <td>NaN</td>\n",
              "      <td>NaN</td>\n",
              "      <td>NaN</td>\n",
              "      <td>NaN</td>\n",
              "      <td>NaN</td>\n",
              "      <td>NaN</td>\n",
              "      <td>NaN</td>\n",
              "      <td>NaN</td>\n",
              "      <td>NaN</td>\n",
              "      <td>NaN</td>\n",
              "      <td>NaN</td>\n",
              "      <td>NaN</td>\n",
              "      <td>NaN</td>\n",
              "      <td>NaN</td>\n",
              "      <td>NaN</td>\n",
              "      <td>NaN</td>\n",
              "      <td>NaN</td>\n",
              "      <td>NaN</td>\n",
              "      <td>NaN</td>\n",
              "      <td>NaN</td>\n",
              "      <td>NaN</td>\n",
              "      <td>0</td>\n",
              "      <td>61</td>\n",
              "      <td>1</td>\n",
              "      <td>insult</td>\n",
              "    </tr>\n",
              "  </tbody>\n",
              "</table>\n",
              "</div>\n",
              "      <button class=\"colab-df-convert\" onclick=\"convertToInteractive('df-812f150f-4872-4782-b94b-6e392baf469c')\"\n",
              "              title=\"Convert this dataframe to an interactive table.\"\n",
              "              style=\"display:none;\">\n",
              "        \n",
              "  <svg xmlns=\"http://www.w3.org/2000/svg\" height=\"24px\"viewBox=\"0 0 24 24\"\n",
              "       width=\"24px\">\n",
              "    <path d=\"M0 0h24v24H0V0z\" fill=\"none\"/>\n",
              "    <path d=\"M18.56 5.44l.94 2.06.94-2.06 2.06-.94-2.06-.94-.94-2.06-.94 2.06-2.06.94zm-11 1L8.5 8.5l.94-2.06 2.06-.94-2.06-.94L8.5 2.5l-.94 2.06-2.06.94zm10 10l.94 2.06.94-2.06 2.06-.94-2.06-.94-.94-2.06-.94 2.06-2.06.94z\"/><path d=\"M17.41 7.96l-1.37-1.37c-.4-.4-.92-.59-1.43-.59-.52 0-1.04.2-1.43.59L10.3 9.45l-7.72 7.72c-.78.78-.78 2.05 0 2.83L4 21.41c.39.39.9.59 1.41.59.51 0 1.02-.2 1.41-.59l7.78-7.78 2.81-2.81c.8-.78.8-2.07 0-2.86zM5.41 20L4 18.59l7.72-7.72 1.47 1.35L5.41 20z\"/>\n",
              "  </svg>\n",
              "      </button>\n",
              "      \n",
              "  <style>\n",
              "    .colab-df-container {\n",
              "      display:flex;\n",
              "      flex-wrap:wrap;\n",
              "      gap: 12px;\n",
              "    }\n",
              "\n",
              "    .colab-df-convert {\n",
              "      background-color: #E8F0FE;\n",
              "      border: none;\n",
              "      border-radius: 50%;\n",
              "      cursor: pointer;\n",
              "      display: none;\n",
              "      fill: #1967D2;\n",
              "      height: 32px;\n",
              "      padding: 0 0 0 0;\n",
              "      width: 32px;\n",
              "    }\n",
              "\n",
              "    .colab-df-convert:hover {\n",
              "      background-color: #E2EBFA;\n",
              "      box-shadow: 0px 1px 2px rgba(60, 64, 67, 0.3), 0px 1px 3px 1px rgba(60, 64, 67, 0.15);\n",
              "      fill: #174EA6;\n",
              "    }\n",
              "\n",
              "    [theme=dark] .colab-df-convert {\n",
              "      background-color: #3B4455;\n",
              "      fill: #D2E3FC;\n",
              "    }\n",
              "\n",
              "    [theme=dark] .colab-df-convert:hover {\n",
              "      background-color: #434B5C;\n",
              "      box-shadow: 0px 1px 3px 1px rgba(0, 0, 0, 0.15);\n",
              "      filter: drop-shadow(0px 1px 2px rgba(0, 0, 0, 0.3));\n",
              "      fill: #FFFFFF;\n",
              "    }\n",
              "  </style>\n",
              "\n",
              "      <script>\n",
              "        const buttonEl =\n",
              "          document.querySelector('#df-812f150f-4872-4782-b94b-6e392baf469c button.colab-df-convert');\n",
              "        buttonEl.style.display =\n",
              "          google.colab.kernel.accessAllowed ? 'block' : 'none';\n",
              "\n",
              "        async function convertToInteractive(key) {\n",
              "          const element = document.querySelector('#df-812f150f-4872-4782-b94b-6e392baf469c');\n",
              "          const dataTable =\n",
              "            await google.colab.kernel.invokeFunction('convertToInteractive',\n",
              "                                                     [key], {});\n",
              "          if (!dataTable) return;\n",
              "\n",
              "          const docLinkHtml = 'Like what you see? Visit the ' +\n",
              "            '<a target=\"_blank\" href=https://colab.research.google.com/notebooks/data_table.ipynb>data table notebook</a>'\n",
              "            + ' to learn more about interactive tables.';\n",
              "          element.innerHTML = '';\n",
              "          dataTable['output_type'] = 'display_data';\n",
              "          await google.colab.output.renderOutput(dataTable, element);\n",
              "          const docLink = document.createElement('div');\n",
              "          docLink.innerHTML = docLinkHtml;\n",
              "          element.appendChild(docLink);\n",
              "        }\n",
              "      </script>\n",
              "    </div>\n",
              "  </div>\n",
              "  "
            ],
            "text/plain": [
              "        id  ... sub_toxic\n",
              "0   650904  ...    insult\n",
              "1  5902188  ...    insult\n",
              "2  5410943  ...    insult\n",
              "3  5764010  ...    insult\n",
              "4  5167187  ...    insult\n",
              "\n",
              "[5 rows x 47 columns]"
            ]
          },
          "metadata": {},
          "execution_count": 26
        }
      ]
    },
    {
      "cell_type": "code",
      "source": [
        "toxic_df['rating'].value_counts()"
      ],
      "metadata": {
        "colab": {
          "base_uri": "https://localhost:8080/"
        },
        "id": "6eTqFM4Jd3NP",
        "outputId": "ab11d811-7543-45b4-9e7d-7184c9b75da2"
      },
      "execution_count": null,
      "outputs": [
        {
          "output_type": "execute_result",
          "data": {
            "text/plain": [
              "approved    80392\n",
              "rejected    26046\n",
              "Name: rating, dtype: int64"
            ]
          },
          "metadata": {},
          "execution_count": 27
        }
      ]
    },
    {
      "cell_type": "code",
      "source": [
        "rating_plot = toxic_df['rating'].value_counts().plot.bar(color=['#9AEAAA','#9A62AA'])\n",
        "rating_plot.set_xlabel('Subcategories of ratings')\n",
        "rating_plot.set_ylabel('Frequency')"
      ],
      "metadata": {
        "colab": {
          "base_uri": "https://localhost:8080/",
          "height": 333
        },
        "id": "wRFOFSqTeXTR",
        "outputId": "a79249fa-1409-4f25-ebf4-c5a3d9a2179d"
      },
      "execution_count": null,
      "outputs": [
        {
          "output_type": "execute_result",
          "data": {
            "text/plain": [
              "Text(0, 0.5, 'Frequency')"
            ]
          },
          "metadata": {},
          "execution_count": 28
        },
        {
          "output_type": "display_data",
          "data": {
            "image/png": "[encoded data removed]",
            "text/plain": [
              "<Figure size 432x288 with 1 Axes>"
            ]
          },
          "metadata": {
            "needs_background": "light"
          }
        }
      ]
    },
    {
      "cell_type": "markdown",
      "source": [
        "There are quite less toxic comments which are rejected."
      ],
      "metadata": {
        "id": "zcmIgtAr6Tl4"
      }
    },
    {
      "cell_type": "code",
      "source": [
        "for jj in toxic_df['sub_toxic'].unique():\n",
        "      print(jj)\n",
        "      print(toxic_df.loc[toxic_df['sub_toxic']==jj]['rating'].value_counts())"
      ],
      "metadata": {
        "colab": {
          "base_uri": "https://localhost:8080/"
        },
        "id": "GNrOfLTXfTsB",
        "outputId": "c230bac9-5002-4d6f-ce52-2d4eefa01bfe"
      },
      "execution_count": null,
      "outputs": [
        {
          "output_type": "stream",
          "name": "stdout",
          "text": [
            "insult\n",
            "approved    64681\n",
            "rejected    20378\n",
            "Name: rating, dtype: int64\n",
            "obscene\n",
            "approved    4935\n",
            "rejected    1692\n",
            "Name: rating, dtype: int64\n",
            "sexual_explicit\n",
            "approved    1938\n",
            "rejected     777\n",
            "Name: rating, dtype: int64\n",
            "threat\n",
            "approved    2579\n",
            "rejected     875\n",
            "Name: rating, dtype: int64\n",
            "identity_attack\n",
            "approved    6259\n",
            "rejected    2324\n",
            "Name: rating, dtype: int64\n"
          ]
        }
      ]
    },
    {
      "cell_type": "markdown",
      "source": [
        "Sexual explicit has high rejection rate which other sub-category have fairly low rejection rate. This may imply that sexual explicit comments are easy to identify while others are not. "
      ],
      "metadata": {
        "id": "dsD_UglG6bbi"
      }
    },
    {
      "cell_type": "code",
      "source": [
        "rating_plot2 = toxic_df.loc[toxic_df['sub_toxic']=='obscene']['rating'].value_counts().plot.bar(color=['#9AEAAA','#9A62AA'])\n",
        "rating_plot2.set_xlabel('Subcategories of ratings')\n",
        "rating_plot2.set_ylabel('Frequency')"
      ],
      "metadata": {
        "colab": {
          "base_uri": "https://localhost:8080/",
          "height": 333
        },
        "id": "LmOb6aGvfIry",
        "outputId": "971bcf6a-3130-49f9-c955-2def470d923e"
      },
      "execution_count": null,
      "outputs": [
        {
          "output_type": "execute_result",
          "data": {
            "text/plain": [
              "Text(0, 0.5, 'Frequency')"
            ]
          },
          "metadata": {},
          "execution_count": 29
        },
        {
          "output_type": "display_data",
          "data": {
            "image/png": "[encoded data removed]",
            "text/plain": [
              "<Figure size 432x288 with 1 Axes>"
            ]
          },
          "metadata": {
            "needs_background": "light"
          }
        }
      ]
    },
    {
      "cell_type": "code",
      "source": [
        "rating_plot3 = toxic_df.loc[toxic_df['sub_toxic']=='insult']['rating'].value_counts().plot.bar(color=['#9AEAAA','#9A62AA'])\n",
        "rating_plot3.set_xlabel('Subcategories of ratings')\n",
        "rating_plot3.set_ylabel('Frequency')"
      ],
      "metadata": {
        "colab": {
          "base_uri": "https://localhost:8080/",
          "height": 333
        },
        "id": "kpER4RD0gNNi",
        "outputId": "2419af0c-ab94-4f2c-be28-e7cbeaea0967"
      },
      "execution_count": null,
      "outputs": [
        {
          "output_type": "execute_result",
          "data": {
            "text/plain": [
              "Text(0, 0.5, 'Frequency')"
            ]
          },
          "metadata": {},
          "execution_count": 30
        },
        {
          "output_type": "display_data",
          "data": {
            "image/png": "[encoded data removed]",
            "text/plain": [
              "<Figure size 432x288 with 1 Axes>"
            ]
          },
          "metadata": {
            "needs_background": "light"
          }
        }
      ]
    },
    {
      "cell_type": "code",
      "source": [
        "rating_plot4 = toxic_df.loc[toxic_df['sub_toxic']=='sexual_explicit']['rating'].value_counts().plot.bar(color=['#9AEAAA','#9A62AA'])\n",
        "rating_plot4.set_xlabel('Subcategories of ratings')\n",
        "rating_plot4.set_ylabel('Frequency')"
      ],
      "metadata": {
        "colab": {
          "base_uri": "https://localhost:8080/",
          "height": 333
        },
        "id": "sM_dx7mGhT-9",
        "outputId": "1bea3145-61c4-4f90-f8e7-68c251d305f1"
      },
      "execution_count": null,
      "outputs": [
        {
          "output_type": "execute_result",
          "data": {
            "text/plain": [
              "Text(0, 0.5, 'Frequency')"
            ]
          },
          "metadata": {},
          "execution_count": 31
        },
        {
          "output_type": "display_data",
          "data": {
            "image/png": "[encoded data removed]",
            "text/plain": [
              "<Figure size 432x288 with 1 Axes>"
            ]
          },
          "metadata": {
            "needs_background": "light"
          }
        }
      ]
    },
    {
      "cell_type": "code",
      "source": [
        "rating_plot5 = toxic_df.loc[toxic_df['sub_toxic']=='threat']['rating'].value_counts().plot.bar(color=['#9AEAAA','#9A62AA'])\n",
        "rating_plot5.set_xlabel('Subcategories of ratings')\n",
        "rating_plot5.set_ylabel('Frequency')"
      ],
      "metadata": {
        "colab": {
          "base_uri": "https://localhost:8080/",
          "height": 333
        },
        "id": "xRhRxMAyha-0",
        "outputId": "6e922aaf-5eea-4003-ec29-b4ddc8ce2117"
      },
      "execution_count": null,
      "outputs": [
        {
          "output_type": "execute_result",
          "data": {
            "text/plain": [
              "Text(0, 0.5, 'Frequency')"
            ]
          },
          "metadata": {},
          "execution_count": 32
        },
        {
          "output_type": "display_data",
          "data": {
            "image/png": "[encoded data removed]",
            "text/plain": [
              "<Figure size 432x288 with 1 Axes>"
            ]
          },
          "metadata": {
            "needs_background": "light"
          }
        }
      ]
    },
    {
      "cell_type": "code",
      "source": [
        "rating_plot6 = toxic_df.loc[toxic_df['sub_toxic']=='identity_attack']['rating'].value_counts().plot.bar(color=['#9AEAAA','#9A62AA'])\n",
        "rating_plot6.set_xlabel('Subcategories of ratings')\n",
        "rating_plot6.set_ylabel('Frequency')"
      ],
      "metadata": {
        "colab": {
          "base_uri": "https://localhost:8080/",
          "height": 333
        },
        "id": "RaXNTBv-hinK",
        "outputId": "681806ab-1f90-42fc-bd8d-ff7fa7db03cf"
      },
      "execution_count": null,
      "outputs": [
        {
          "output_type": "execute_result",
          "data": {
            "text/plain": [
              "Text(0, 0.5, 'Frequency')"
            ]
          },
          "metadata": {},
          "execution_count": 33
        },
        {
          "output_type": "display_data",
          "data": {
            "image/png": "[encoded data removed]",
            "text/plain": [
              "<Figure size 432x288 with 1 Axes>"
            ]
          },
          "metadata": {
            "needs_background": "light"
          }
        }
      ]
    },
    {
      "cell_type": "markdown",
      "source": [
        "#Distribution of toxic category:- funny, wow, sad, likes, disagree"
      ],
      "metadata": {
        "id": "tVWyV6PA1AKr"
      }
    },
    {
      "cell_type": "code",
      "source": [
        "for jj in toxic_df['sub_toxic'].unique():\n",
        "      print(jj)\n",
        "      print(toxic_df.loc[toxic_df['sub_toxic']==jj]['funny'].value_counts())"
      ],
      "metadata": {
        "colab": {
          "base_uri": "https://localhost:8080/"
        },
        "id": "mDZv4BQbhou2",
        "outputId": "0ae9e143-861e-4ed9-fed0-44840ffccd40"
      },
      "execution_count": null,
      "outputs": [
        {
          "output_type": "stream",
          "name": "stdout",
          "text": [
            "insult\n",
            "0     73395\n",
            "1      7486\n",
            "2      2348\n",
            "3       926\n",
            "4       390\n",
            "5       202\n",
            "6       133\n",
            "7        53\n",
            "8        35\n",
            "9        27\n",
            "10       20\n",
            "12        8\n",
            "14        7\n",
            "11        5\n",
            "16        4\n",
            "13        4\n",
            "15        2\n",
            "23        2\n",
            "19        2\n",
            "17        2\n",
            "32        1\n",
            "20        1\n",
            "18        1\n",
            "24        1\n",
            "22        1\n",
            "58        1\n",
            "31        1\n",
            "95        1\n",
            "Name: funny, dtype: int64\n",
            "obscene\n",
            "0     5778\n",
            "1      527\n",
            "2      169\n",
            "3       58\n",
            "4       33\n",
            "6       14\n",
            "7       13\n",
            "5       11\n",
            "8        9\n",
            "9        5\n",
            "11       3\n",
            "13       2\n",
            "10       2\n",
            "24       1\n",
            "22       1\n",
            "14       1\n",
            "Name: funny, dtype: int64\n",
            "sexual_explicit\n",
            "0     2307\n",
            "1      225\n",
            "2       85\n",
            "3       33\n",
            "4       26\n",
            "5       15\n",
            "7       11\n",
            "6        7\n",
            "9        2\n",
            "13       1\n",
            "12       1\n",
            "30       1\n",
            "10       1\n",
            "Name: funny, dtype: int64\n",
            "threat\n",
            "0     2968\n",
            "1      286\n",
            "2       94\n",
            "3       44\n",
            "4       27\n",
            "5       10\n",
            "6        7\n",
            "8        7\n",
            "7        3\n",
            "16       2\n",
            "11       2\n",
            "9        1\n",
            "35       1\n",
            "14       1\n",
            "19       1\n",
            "Name: funny, dtype: int64\n",
            "identity_attack\n",
            "0     7460\n",
            "1      719\n",
            "2      214\n",
            "3       81\n",
            "4       46\n",
            "5       26\n",
            "6       13\n",
            "7        7\n",
            "9        4\n",
            "8        3\n",
            "18       3\n",
            "10       2\n",
            "33       1\n",
            "17       1\n",
            "14       1\n",
            "23       1\n",
            "20       1\n",
            "Name: funny, dtype: int64\n"
          ]
        }
      ]
    },
    {
      "cell_type": "markdown",
      "source": [
        "Insult category has the highest funny reactions which may imply that sometimes insult comments may contain humor. People don't find other toxic sub-categories to be hilarious.  "
      ],
      "metadata": {
        "id": "xExsoF4h6_F0"
      }
    },
    {
      "cell_type": "code",
      "source": [
        "for jj in toxic_df['sub_toxic'].unique():\n",
        "      print(jj)\n",
        "      print(toxic_df.loc[toxic_df['sub_toxic']==jj]['wow'].value_counts())"
      ],
      "metadata": {
        "colab": {
          "base_uri": "https://localhost:8080/"
        },
        "id": "WVD-zhrkiEu2",
        "outputId": "37942d97-845d-499e-f3da-83f7b4f4eb7a"
      },
      "execution_count": null,
      "outputs": [
        {
          "output_type": "stream",
          "name": "stdout",
          "text": [
            "insult\n",
            "0    81716\n",
            "1     2909\n",
            "2      348\n",
            "3       66\n",
            "4       17\n",
            "5        1\n",
            "6        1\n",
            "7        1\n",
            "Name: wow, dtype: int64\n",
            "obscene\n",
            "0    6430\n",
            "1     166\n",
            "2      18\n",
            "3      10\n",
            "4       2\n",
            "5       1\n",
            "Name: wow, dtype: int64\n",
            "sexual_explicit\n",
            "0    2600\n",
            "1      94\n",
            "2      16\n",
            "3       3\n",
            "4       2\n",
            "Name: wow, dtype: int64\n",
            "threat\n",
            "0    3232\n",
            "1     186\n",
            "2      27\n",
            "3       8\n",
            "4       1\n",
            "Name: wow, dtype: int64\n",
            "identity_attack\n",
            "0    8143\n",
            "1     360\n",
            "2      61\n",
            "3      14\n",
            "4       3\n",
            "6       1\n",
            "5       1\n",
            "Name: wow, dtype: int64\n"
          ]
        }
      ]
    },
    {
      "cell_type": "markdown",
      "source": [
        "All the sub-categories have fairly low 'wow' reactions which may imply that people don't correlate these comments positively. "
      ],
      "metadata": {
        "id": "GzfNiLcc7uWl"
      }
    },
    {
      "cell_type": "code",
      "source": [
        "for jj in toxic_df['sub_toxic'].unique():\n",
        "      print(jj)\n",
        "      print(toxic_df.loc[toxic_df['sub_toxic']==jj]['sad'].value_counts())"
      ],
      "metadata": {
        "colab": {
          "base_uri": "https://localhost:8080/"
        },
        "id": "dMDYdRXliTr1",
        "outputId": "a156ca7a-91bf-4620-b185-d57091926417"
      },
      "execution_count": null,
      "outputs": [
        {
          "output_type": "stream",
          "name": "stdout",
          "text": [
            "insult\n",
            "0     77959\n",
            "1      5313\n",
            "2      1188\n",
            "3       330\n",
            "4       139\n",
            "5        66\n",
            "6        37\n",
            "7         9\n",
            "8         6\n",
            "9         6\n",
            "14        3\n",
            "10        2\n",
            "13        1\n",
            "Name: sad, dtype: int64\n",
            "obscene\n",
            "0     6192\n",
            "1      335\n",
            "2       69\n",
            "3       22\n",
            "5        4\n",
            "8        2\n",
            "6        1\n",
            "16       1\n",
            "4        1\n",
            "Name: sad, dtype: int64\n",
            "sexual_explicit\n",
            "0    2520\n",
            "1     158\n",
            "2      21\n",
            "3      11\n",
            "5       4\n",
            "4       1\n",
            "Name: sad, dtype: int64\n",
            "threat\n",
            "0    3173\n",
            "1     211\n",
            "2      43\n",
            "3      18\n",
            "4       7\n",
            "5       2\n",
            "Name: sad, dtype: int64\n",
            "identity_attack\n",
            "0     7709\n",
            "1      651\n",
            "2      143\n",
            "3       48\n",
            "4       11\n",
            "5        9\n",
            "7        4\n",
            "6        4\n",
            "8        3\n",
            "10       1\n",
            "Name: sad, dtype: int64\n"
          ]
        }
      ]
    },
    {
      "cell_type": "markdown",
      "source": [
        "Again, all the sub-categories have fairly low sad reactions which may imply people don't like to react to toxic comments. "
      ],
      "metadata": {
        "id": "r4tFKTHq8E4S"
      }
    },
    {
      "cell_type": "code",
      "source": [
        "for jj in toxic_df['sub_toxic'].unique():\n",
        "      print(jj)\n",
        "      print(toxic_df.loc[toxic_df['sub_toxic']==jj]['likes'].value_counts())"
      ],
      "metadata": {
        "colab": {
          "base_uri": "https://localhost:8080/"
        },
        "id": "0Tdun7w0ic1I",
        "outputId": "ffc3d40c-f1ae-4ed2-edec-30aa492dc490"
      },
      "execution_count": null,
      "outputs": [
        {
          "output_type": "stream",
          "name": "stdout",
          "text": [
            "insult\n",
            "0      38195\n",
            "1      13619\n",
            "2       8466\n",
            "3       5880\n",
            "4       4213\n",
            "       ...  \n",
            "94         1\n",
            "89         1\n",
            "72         1\n",
            "88         1\n",
            "110        1\n",
            "Name: likes, Length: 91, dtype: int64\n",
            "obscene\n",
            "0     3434\n",
            "1     1030\n",
            "2      608\n",
            "3      407\n",
            "4      271\n",
            "5      203\n",
            "6      146\n",
            "7       99\n",
            "8       93\n",
            "9       58\n",
            "10      35\n",
            "13      30\n",
            "12      29\n",
            "11      26\n",
            "15      25\n",
            "14      20\n",
            "18      14\n",
            "21      10\n",
            "19      10\n",
            "16       9\n",
            "22       9\n",
            "20       8\n",
            "17       8\n",
            "25       7\n",
            "23       5\n",
            "24       4\n",
            "26       4\n",
            "35       4\n",
            "27       3\n",
            "28       3\n",
            "34       2\n",
            "73       2\n",
            "59       1\n",
            "40       1\n",
            "50       1\n",
            "32       1\n",
            "55       1\n",
            "47       1\n",
            "58       1\n",
            "53       1\n",
            "54       1\n",
            "31       1\n",
            "39       1\n",
            "Name: likes, dtype: int64\n",
            "sexual_explicit\n",
            "0     1420\n",
            "1      445\n",
            "2      271\n",
            "3      166\n",
            "4       93\n",
            "5       70\n",
            "6       49\n",
            "7       41\n",
            "8       34\n",
            "9       23\n",
            "11      20\n",
            "10      17\n",
            "12      12\n",
            "13       8\n",
            "14       6\n",
            "18       5\n",
            "16       5\n",
            "15       5\n",
            "17       4\n",
            "34       4\n",
            "20       3\n",
            "21       3\n",
            "19       3\n",
            "24       2\n",
            "23       2\n",
            "25       1\n",
            "27       1\n",
            "22       1\n",
            "37       1\n",
            "Name: likes, dtype: int64\n",
            "threat\n",
            "0     1781\n",
            "1      580\n",
            "2      337\n",
            "3      199\n",
            "4      133\n",
            "5      101\n",
            "6       72\n",
            "7       54\n",
            "8       41\n",
            "9       34\n",
            "10      19\n",
            "11      17\n",
            "12      12\n",
            "13       9\n",
            "16       8\n",
            "15       7\n",
            "14       7\n",
            "25       5\n",
            "21       5\n",
            "17       4\n",
            "23       4\n",
            "27       3\n",
            "18       3\n",
            "26       2\n",
            "35       2\n",
            "50       2\n",
            "31       2\n",
            "19       2\n",
            "20       2\n",
            "36       1\n",
            "34       1\n",
            "24       1\n",
            "22       1\n",
            "43       1\n",
            "32       1\n",
            "30       1\n",
            "Name: likes, dtype: int64\n",
            "identity_attack\n",
            "0      4105\n",
            "1      1375\n",
            "2       886\n",
            "3       521\n",
            "4       386\n",
            "5       325\n",
            "6       185\n",
            "7       159\n",
            "8       110\n",
            "9        89\n",
            "11       71\n",
            "10       68\n",
            "14       50\n",
            "12       41\n",
            "13       30\n",
            "15       24\n",
            "17       23\n",
            "16       20\n",
            "19       14\n",
            "20       11\n",
            "22       10\n",
            "21        9\n",
            "23        8\n",
            "24        8\n",
            "18        8\n",
            "25        6\n",
            "27        4\n",
            "31        4\n",
            "32        3\n",
            "28        3\n",
            "29        3\n",
            "30        2\n",
            "26        2\n",
            "35        2\n",
            "38        2\n",
            "44        1\n",
            "33        1\n",
            "62        1\n",
            "57        1\n",
            "53        1\n",
            "123       1\n",
            "46        1\n",
            "71        1\n",
            "68        1\n",
            "166       1\n",
            "69        1\n",
            "41        1\n",
            "51        1\n",
            "102       1\n",
            "37        1\n",
            "49        1\n",
            "Name: likes, dtype: int64\n"
          ]
        }
      ]
    },
    {
      "cell_type": "markdown",
      "source": [
        "It is surprising to see so many likes for toxic comments which is lead by insult sub-category. All the sub-categories have fairly amount of likes which means some or the person person may have agreed to the toxic comment which honestly is disturbing. "
      ],
      "metadata": {
        "id": "7Oc1UCcL8b8n"
      }
    },
    {
      "cell_type": "code",
      "source": [
        "for jj in toxic_df['sub_toxic'].unique():\n",
        "      print(jj)\n",
        "      print(toxic_df.loc[toxic_df['sub_toxic']==jj]['disagree'].value_counts())"
      ],
      "metadata": {
        "colab": {
          "base_uri": "https://localhost:8080/"
        },
        "id": "0VL5GZogiiU2",
        "outputId": "87b5387d-ee2b-4664-af51-c3d87302a48e"
      },
      "execution_count": null,
      "outputs": [
        {
          "output_type": "stream",
          "name": "stdout",
          "text": [
            "insult\n",
            "0     64232\n",
            "1      9851\n",
            "2      4480\n",
            "3      2286\n",
            "4      1362\n",
            "5       855\n",
            "6       555\n",
            "7       366\n",
            "8       268\n",
            "9       174\n",
            "10      132\n",
            "11       99\n",
            "12       79\n",
            "13       63\n",
            "14       44\n",
            "15       32\n",
            "17       26\n",
            "16       25\n",
            "19       17\n",
            "18       15\n",
            "22       10\n",
            "23        9\n",
            "24        8\n",
            "25        6\n",
            "20        6\n",
            "26        6\n",
            "21        6\n",
            "27        5\n",
            "36        4\n",
            "29        4\n",
            "30        4\n",
            "35        4\n",
            "38        3\n",
            "28        2\n",
            "33        2\n",
            "48        2\n",
            "49        2\n",
            "31        2\n",
            "44        2\n",
            "34        2\n",
            "42        1\n",
            "96        1\n",
            "51        1\n",
            "37        1\n",
            "53        1\n",
            "72        1\n",
            "32        1\n",
            "40        1\n",
            "83        1\n",
            "Name: disagree, dtype: int64\n",
            "obscene\n",
            "0     5553\n",
            "1      555\n",
            "2      227\n",
            "3      111\n",
            "4       59\n",
            "5       34\n",
            "7       21\n",
            "6       19\n",
            "9       12\n",
            "8       10\n",
            "10      10\n",
            "11       5\n",
            "13       3\n",
            "21       3\n",
            "14       2\n",
            "43       1\n",
            "31       1\n",
            "39       1\n",
            "Name: disagree, dtype: int64\n",
            "sexual_explicit\n",
            "0     2238\n",
            "1      254\n",
            "2       99\n",
            "3       50\n",
            "4       24\n",
            "6       13\n",
            "5       13\n",
            "7        5\n",
            "11       5\n",
            "14       3\n",
            "9        3\n",
            "8        3\n",
            "10       2\n",
            "13       1\n",
            "46       1\n",
            "25       1\n",
            "Name: disagree, dtype: int64\n",
            "threat\n",
            "0     2834\n",
            "1      314\n",
            "2      145\n",
            "3       70\n",
            "4       33\n",
            "6       18\n",
            "5       14\n",
            "7       10\n",
            "9        3\n",
            "8        3\n",
            "13       2\n",
            "11       2\n",
            "12       2\n",
            "16       1\n",
            "10       1\n",
            "15       1\n",
            "26       1\n",
            "Name: disagree, dtype: int64\n",
            "identity_attack\n",
            "0     6364\n",
            "1     1059\n",
            "2      503\n",
            "3      238\n",
            "4      141\n",
            "5       84\n",
            "6       62\n",
            "7       25\n",
            "8       23\n",
            "9       17\n",
            "11      12\n",
            "10      11\n",
            "12       8\n",
            "18       7\n",
            "13       4\n",
            "20       3\n",
            "19       3\n",
            "16       3\n",
            "17       3\n",
            "21       3\n",
            "26       2\n",
            "15       2\n",
            "22       1\n",
            "23       1\n",
            "14       1\n",
            "54       1\n",
            "27       1\n",
            "57       1\n",
            "Name: disagree, dtype: int64\n"
          ]
        }
      ]
    },
    {
      "cell_type": "markdown",
      "source": [
        "The disagreement on the toxic comments is fairly lower than likes which shows that people don't like to show disagreement publicly to toxic comments. "
      ],
      "metadata": {
        "id": "LAKrswFm9Wox"
      }
    },
    {
      "cell_type": "markdown",
      "source": [
        "#Distribution of toxic category:- Gender"
      ],
      "metadata": {
        "id": "gnPYtqPQ1T95"
      }
    },
    {
      "cell_type": "code",
      "source": [
        "for jj in toxic_df['sub_toxic'].unique():\n",
        "      print(jj)\n",
        "      print(toxic_df.loc[toxic_df['sub_toxic']==jj]['male'].value_counts())"
      ],
      "metadata": {
        "colab": {
          "base_uri": "https://localhost:8080/"
        },
        "id": "XV_bXULgiyrq",
        "outputId": "6883f448-7d59-4f0d-ccdc-4f60ba5869a2"
      },
      "execution_count": null,
      "outputs": [
        {
          "output_type": "stream",
          "name": "stdout",
          "text": [
            "insult\n",
            "0.000000    16134\n",
            "1.000000     1176\n",
            "0.166667      679\n",
            "0.100000      576\n",
            "0.200000      574\n",
            "0.833333      324\n",
            "0.800000      310\n",
            "0.500000      294\n",
            "0.300000      272\n",
            "0.700000      258\n",
            "0.600000      246\n",
            "0.400000      224\n",
            "0.250000      113\n",
            "0.750000       92\n",
            "0.900000       67\n",
            "0.666667       29\n",
            "0.333333       29\n",
            "0.857143        6\n",
            "0.111111        5\n",
            "0.142857        3\n",
            "0.090909        3\n",
            "0.888889        2\n",
            "0.363636        2\n",
            "0.125000        2\n",
            "0.181818        2\n",
            "0.070826        1\n",
            "0.045931        1\n",
            "0.001122        1\n",
            "0.013906        1\n",
            "0.009050        1\n",
            "0.016921        1\n",
            "0.126984        1\n",
            "0.003245        1\n",
            "0.545455        1\n",
            "0.954545        1\n",
            "0.972944        1\n",
            "0.001900        1\n",
            "0.727273        1\n",
            "0.039612        1\n",
            "0.017744        1\n",
            "0.156000        1\n",
            "0.714286        1\n",
            "Name: male, dtype: int64\n",
            "obscene\n",
            "0.000000    1182\n",
            "1.000000      88\n",
            "0.166667      44\n",
            "0.100000      31\n",
            "0.200000      29\n",
            "0.833333      23\n",
            "0.800000      22\n",
            "0.500000      21\n",
            "0.300000      19\n",
            "0.600000      16\n",
            "0.400000      13\n",
            "0.700000      13\n",
            "0.250000       9\n",
            "0.750000       5\n",
            "0.900000       2\n",
            "0.187708       1\n",
            "0.090909       1\n",
            "0.666667       1\n",
            "0.727273       1\n",
            "0.636364       1\n",
            "Name: male, dtype: int64\n",
            "sexual_explicit\n",
            "0.000000    710\n",
            "1.000000    181\n",
            "0.100000     50\n",
            "0.166667     47\n",
            "0.500000     36\n",
            "0.800000     35\n",
            "0.200000     33\n",
            "0.250000     30\n",
            "0.833333     29\n",
            "0.750000     28\n",
            "0.300000     20\n",
            "0.400000     17\n",
            "0.600000     17\n",
            "0.700000     16\n",
            "0.900000     14\n",
            "0.333333      7\n",
            "0.666667      2\n",
            "0.142857      1\n",
            "0.857143      1\n",
            "0.636364      1\n",
            "0.978149      1\n",
            "Name: male, dtype: int64\n",
            "threat\n",
            "0.000000    558\n",
            "1.000000     43\n",
            "0.166667     19\n",
            "0.200000     16\n",
            "0.600000     13\n",
            "0.300000     12\n",
            "0.100000     11\n",
            "0.500000      9\n",
            "0.833333      7\n",
            "0.700000      6\n",
            "0.400000      5\n",
            "0.800000      4\n",
            "0.250000      3\n",
            "0.900000      2\n",
            "0.750000      2\n",
            "0.222222      1\n",
            "0.727273      1\n",
            "0.333333      1\n",
            "0.272727      1\n",
            "Name: male, dtype: int64\n",
            "identity_attack\n",
            "0.000000    5731\n",
            "1.000000     474\n",
            "0.166667     189\n",
            "0.833333     171\n",
            "0.100000     162\n",
            "0.200000     148\n",
            "0.800000     142\n",
            "0.600000     109\n",
            "0.500000     105\n",
            "0.700000     103\n",
            "0.300000      78\n",
            "0.400000      76\n",
            "0.750000      44\n",
            "0.900000      34\n",
            "0.250000      32\n",
            "0.666667      14\n",
            "0.333333      10\n",
            "0.142857       2\n",
            "0.857143       2\n",
            "0.888889       2\n",
            "0.001294       1\n",
            "0.286027       1\n",
            "0.001072       1\n",
            "0.005571       1\n",
            "0.023490       1\n",
            "0.157229       1\n",
            "0.295317       1\n",
            "0.091561       1\n",
            "0.000632       1\n",
            "0.001654       1\n",
            "0.005073       1\n",
            "0.125000       1\n",
            "0.736203       1\n",
            "0.005806       1\n",
            "0.005056       1\n",
            "0.004516       1\n",
            "0.636364       1\n",
            "0.032129       1\n",
            "0.002720       1\n",
            "0.019542       1\n",
            "Name: male, dtype: int64\n"
          ]
        }
      ]
    },
    {
      "cell_type": "markdown",
      "source": [
        "Male gender is not much targeted in the toxic comments. In the given data, sexual explicit sub-category seems to have highest ratio among all the categories. "
      ],
      "metadata": {
        "id": "jwKI-uXp-Rtp"
      }
    },
    {
      "cell_type": "code",
      "source": [
        "for jj in toxic_df['sub_toxic'].unique():\n",
        "      print(jj)\n",
        "      print(toxic_df.loc[toxic_df['sub_toxic']==jj]['female'].value_counts())"
      ],
      "metadata": {
        "colab": {
          "base_uri": "https://localhost:8080/"
        },
        "id": "vPDIFap3jxdW",
        "outputId": "4013fccd-4f22-4b97-c1a2-fb6121ae9fd2"
      },
      "execution_count": null,
      "outputs": [
        {
          "output_type": "stream",
          "name": "stdout",
          "text": [
            "insult\n",
            "0.000000    16828\n",
            "1.000000     1768\n",
            "0.166667      393\n",
            "0.833333      375\n",
            "0.200000      352\n",
            "0.800000      302\n",
            "0.100000      278\n",
            "0.400000      214\n",
            "0.300000      207\n",
            "0.500000      184\n",
            "0.600000      162\n",
            "0.700000      152\n",
            "0.900000       98\n",
            "0.250000       35\n",
            "0.750000       34\n",
            "0.333333       12\n",
            "0.666667        8\n",
            "0.111111        7\n",
            "0.857143        6\n",
            "0.142857        3\n",
            "0.636364        2\n",
            "0.454545        1\n",
            "0.987718        1\n",
            "0.125000        1\n",
            "0.875000        1\n",
            "0.001122        1\n",
            "0.913401        1\n",
            "0.818182        1\n",
            "0.002248        1\n",
            "0.090909        1\n",
            "0.004029        1\n",
            "0.545455        1\n",
            "0.079365        1\n",
            "0.181818        1\n",
            "0.004785        1\n",
            "0.952922        1\n",
            "0.001267        1\n",
            "0.777778        1\n",
            "0.004000        1\n",
            "0.363636        1\n",
            "Name: female, dtype: int64\n",
            "obscene\n",
            "0.000000    1131\n",
            "1.000000     136\n",
            "0.166667      45\n",
            "0.200000      33\n",
            "0.400000      29\n",
            "0.800000      26\n",
            "0.300000      24\n",
            "0.100000      21\n",
            "0.833333      18\n",
            "0.500000      14\n",
            "0.700000      13\n",
            "0.600000      11\n",
            "0.250000       8\n",
            "0.750000       5\n",
            "0.900000       3\n",
            "0.666667       2\n",
            "0.011074       1\n",
            "0.818182       1\n",
            "0.142857       1\n",
            "Name: female, dtype: int64\n",
            "sexual_explicit\n",
            "0.000000    572\n",
            "1.000000    364\n",
            "0.833333     51\n",
            "0.800000     42\n",
            "0.166667     33\n",
            "0.400000     32\n",
            "0.500000     29\n",
            "0.200000     28\n",
            "0.700000     24\n",
            "0.300000     23\n",
            "0.900000     20\n",
            "0.600000     19\n",
            "0.100000     17\n",
            "0.750000      9\n",
            "0.250000      7\n",
            "0.666667      2\n",
            "0.333333      2\n",
            "0.272727      1\n",
            "0.992931      1\n",
            "Name: female, dtype: int64\n",
            "threat\n",
            "0.000000    576\n",
            "1.000000     53\n",
            "0.200000     14\n",
            "0.400000     13\n",
            "0.833333     13\n",
            "0.166667      9\n",
            "0.500000      8\n",
            "0.300000      7\n",
            "0.600000      4\n",
            "0.100000      4\n",
            "0.700000      4\n",
            "0.750000      3\n",
            "0.800000      3\n",
            "0.250000      2\n",
            "0.454545      1\n",
            "Name: female, dtype: int64\n",
            "identity_attack\n",
            "0.000000    6277\n",
            "1.000000     582\n",
            "0.100000     104\n",
            "0.833333      92\n",
            "0.166667      79\n",
            "0.200000      77\n",
            "0.800000      71\n",
            "0.900000      66\n",
            "0.600000      52\n",
            "0.700000      50\n",
            "0.400000      42\n",
            "0.500000      39\n",
            "0.300000      37\n",
            "0.750000      24\n",
            "0.250000      16\n",
            "0.333333      10\n",
            "0.666667      10\n",
            "0.001935       2\n",
            "0.000550       1\n",
            "0.004408       1\n",
            "0.026846       1\n",
            "0.001096       1\n",
            "0.001072       1\n",
            "0.001294       1\n",
            "0.001654       1\n",
            "0.000552       1\n",
            "0.142857       1\n",
            "0.001895       1\n",
            "0.000557       1\n",
            "0.000634       1\n",
            "0.005519       1\n",
            "0.000545       1\n",
            "0.000562       1\n",
            "0.181818       1\n",
            "0.001088       1\n",
            "0.930765       1\n",
            "Name: female, dtype: int64\n"
          ]
        }
      ]
    },
    {
      "cell_type": "markdown",
      "source": [
        "Sexual explicit sub-category has highest ratio among all. "
      ],
      "metadata": {
        "id": "IkiXjMMi_TbV"
      }
    },
    {
      "cell_type": "code",
      "source": [
        "for jj in toxic_df['sub_toxic'].unique():\n",
        "      print(jj)\n",
        "      print(toxic_df.loc[toxic_df['sub_toxic']==jj]['homosexual_gay_or_lesbian'].value_counts())"
      ],
      "metadata": {
        "colab": {
          "base_uri": "https://localhost:8080/"
        },
        "id": "s8tzg6vvxRj3",
        "outputId": "a4a3a859-9381-4879-c87c-c12bd3a26862"
      },
      "execution_count": null,
      "outputs": [
        {
          "output_type": "stream",
          "name": "stdout",
          "text": [
            "insult\n",
            "0.000000    20563\n",
            "1.000000      225\n",
            "0.800000       80\n",
            "0.100000       76\n",
            "0.166667       66\n",
            "0.833333       66\n",
            "0.600000       60\n",
            "0.300000       58\n",
            "0.200000       57\n",
            "0.700000       51\n",
            "0.500000       44\n",
            "0.400000       43\n",
            "0.900000       37\n",
            "0.250000        2\n",
            "0.002596        1\n",
            "0.111111        1\n",
            "0.974018        1\n",
            "0.001082        1\n",
            "0.021531        1\n",
            "0.984127        1\n",
            "0.272727        1\n",
            "0.008994        1\n",
            "0.750000        1\n",
            "0.090909        1\n",
            "0.000646        1\n",
            "Name: homosexual_gay_or_lesbian, dtype: int64\n",
            "obscene\n",
            "0.000000    1478\n",
            "0.100000      10\n",
            "1.000000       7\n",
            "0.166667       5\n",
            "0.200000       4\n",
            "0.600000       4\n",
            "0.800000       4\n",
            "0.300000       3\n",
            "0.500000       2\n",
            "0.833333       1\n",
            "0.700000       1\n",
            "0.001661       1\n",
            "0.900000       1\n",
            "0.727273       1\n",
            "Name: homosexual_gay_or_lesbian, dtype: int64\n",
            "sexual_explicit\n",
            "0.000000    1114\n",
            "1.000000      63\n",
            "0.800000      16\n",
            "0.100000      16\n",
            "0.833333      13\n",
            "0.900000      11\n",
            "0.700000      10\n",
            "0.200000       8\n",
            "0.166667       7\n",
            "0.400000       5\n",
            "0.600000       4\n",
            "0.500000       4\n",
            "0.300000       3\n",
            "0.333333       1\n",
            "0.011568       1\n",
            "Name: homosexual_gay_or_lesbian, dtype: int64\n",
            "threat\n",
            "0.000000    700\n",
            "1.000000      6\n",
            "0.800000      2\n",
            "0.300000      2\n",
            "0.100000      1\n",
            "0.200000      1\n",
            "0.833333      1\n",
            "0.500000      1\n",
            "Name: homosexual_gay_or_lesbian, dtype: int64\n",
            "identity_attack\n",
            "0.000000    6132\n",
            "1.000000     764\n",
            "0.833333     159\n",
            "0.800000     154\n",
            "0.900000      93\n",
            "0.700000      85\n",
            "0.600000      70\n",
            "0.500000      39\n",
            "0.400000      33\n",
            "0.100000      32\n",
            "0.166667      31\n",
            "0.200000      21\n",
            "0.300000      14\n",
            "0.750000       5\n",
            "0.666667       3\n",
            "0.250000       2\n",
            "0.937919       1\n",
            "0.001653       1\n",
            "0.875000       1\n",
            "0.333333       1\n",
            "0.003817       1\n",
            "0.919777       1\n",
            "0.000544       1\n",
            "0.003371       1\n",
            "0.957419       1\n",
            "0.943775       1\n",
            "0.004932       1\n",
            "Name: homosexual_gay_or_lesbian, dtype: int64\n"
          ]
        }
      ]
    },
    {
      "cell_type": "markdown",
      "source": [
        "Identity attack has highest ratio sub-category toxicity. So, sexual explicit and identity attack seem to be high in the case of gender features. "
      ],
      "metadata": {
        "id": "TtatW80uAEOn"
      }
    },
    {
      "cell_type": "markdown",
      "source": [
        "#Distribution of toxic category:- Religion"
      ],
      "metadata": {
        "id": "KqFMtikO1ajo"
      }
    },
    {
      "cell_type": "code",
      "source": [
        "for jj in toxic_df['sub_toxic'].unique():\n",
        "      print(jj)\n",
        "      print(toxic_df.loc[toxic_df['sub_toxic']==jj]['muslim'].value_counts())"
      ],
      "metadata": {
        "colab": {
          "base_uri": "https://localhost:8080/"
        },
        "id": "ekQaixmMtm2k",
        "outputId": "3d242761-f59e-4cbf-eec2-8beffdbdd7c8"
      },
      "execution_count": null,
      "outputs": [
        {
          "output_type": "stream",
          "name": "stdout",
          "text": [
            "insult\n",
            "0.000000    20084\n",
            "1.000000      565\n",
            "0.833333      110\n",
            "0.800000       95\n",
            "0.500000       85\n",
            "0.200000       69\n",
            "0.900000       62\n",
            "0.166667       60\n",
            "0.600000       58\n",
            "0.400000       57\n",
            "0.300000       57\n",
            "0.700000       53\n",
            "0.100000       47\n",
            "0.750000       16\n",
            "0.250000       11\n",
            "0.333333        3\n",
            "0.000649        1\n",
            "0.955640        1\n",
            "0.632679        1\n",
            "0.984127        1\n",
            "0.994359        1\n",
            "0.666667        1\n",
            "0.001122        1\n",
            "Name: muslim, dtype: int64\n",
            "obscene\n",
            "0.000000    1467\n",
            "1.000000      31\n",
            "0.166667       5\n",
            "0.800000       4\n",
            "0.833333       2\n",
            "0.200000       2\n",
            "0.100000       2\n",
            "0.900000       2\n",
            "0.250000       2\n",
            "0.545455       1\n",
            "0.700000       1\n",
            "0.400000       1\n",
            "0.600000       1\n",
            "0.300000       1\n",
            "Name: muslim, dtype: int64\n",
            "sexual_explicit\n",
            "0.000000    1249\n",
            "1.000000      10\n",
            "0.100000       4\n",
            "0.166667       2\n",
            "0.700000       2\n",
            "0.900000       2\n",
            "0.800000       2\n",
            "0.400000       1\n",
            "0.833333       1\n",
            "0.200000       1\n",
            "0.000643       1\n",
            "0.300000       1\n",
            "Name: muslim, dtype: int64\n",
            "threat\n",
            "0.000000    664\n",
            "1.000000     15\n",
            "0.600000      6\n",
            "0.800000      5\n",
            "0.500000      5\n",
            "0.700000      5\n",
            "0.200000      4\n",
            "0.166667      4\n",
            "0.300000      3\n",
            "0.400000      2\n",
            "0.833333      1\n",
            "Name: muslim, dtype: int64\n",
            "identity_attack\n",
            "0.000000    5404\n",
            "1.000000    1406\n",
            "0.833333     154\n",
            "0.800000     119\n",
            "0.500000      91\n",
            "0.900000      73\n",
            "0.600000      67\n",
            "0.400000      63\n",
            "0.700000      56\n",
            "0.300000      41\n",
            "0.200000      38\n",
            "0.166667      34\n",
            "0.750000      30\n",
            "0.100000      30\n",
            "0.250000      16\n",
            "0.333333       6\n",
            "0.666667       6\n",
            "0.545455       2\n",
            "0.978237       1\n",
            "0.714286       1\n",
            "0.001935       1\n",
            "0.944382       1\n",
            "0.000645       1\n",
            "0.000552       1\n",
            "0.003981       1\n",
            "0.857143       1\n",
            "0.001119       1\n",
            "0.988210       1\n",
            "0.719741       1\n",
            "0.000548       1\n",
            "Name: muslim, dtype: int64\n"
          ]
        }
      ]
    },
    {
      "cell_type": "markdown",
      "source": [
        "All the sub-categories are low but identity attack seems to have highest ratio. "
      ],
      "metadata": {
        "id": "BP5nuRjTAj1J"
      }
    },
    {
      "cell_type": "code",
      "source": [
        "for jj in toxic_df['sub_toxic'].unique():\n",
        "      print(jj)\n",
        "      print(toxic_df.loc[toxic_df['sub_toxic']==jj]['hindu'].value_counts())"
      ],
      "metadata": {
        "colab": {
          "base_uri": "https://localhost:8080/"
        },
        "id": "CphIbCbEtMrg",
        "outputId": "92cad048-b9d7-4e9d-e13e-a9f510dd81a6"
      },
      "execution_count": null,
      "outputs": [
        {
          "output_type": "stream",
          "name": "stdout",
          "text": [
            "insult\n",
            "0.000000    21368\n",
            "0.100000       26\n",
            "0.166667        9\n",
            "0.200000        6\n",
            "0.500000        4\n",
            "0.250000        4\n",
            "0.800000        4\n",
            "1.000000        3\n",
            "0.700000        3\n",
            "0.750000        2\n",
            "0.833333        2\n",
            "0.900000        1\n",
            "0.400000        1\n",
            "0.000632        1\n",
            "0.000633        1\n",
            "0.600000        1\n",
            "0.300000        1\n",
            "0.000634        1\n",
            "0.000646        1\n",
            "Name: hindu, dtype: int64\n",
            "obscene\n",
            "0.0    1517\n",
            "0.1       3\n",
            "1.0       1\n",
            "0.5       1\n",
            "Name: hindu, dtype: int64\n",
            "sexual_explicit\n",
            "0.000000    1273\n",
            "0.100000       2\n",
            "0.000643       1\n",
            "Name: hindu, dtype: int64\n",
            "threat\n",
            "0.0    713\n",
            "0.1      1\n",
            "Name: hindu, dtype: int64\n",
            "identity_attack\n",
            "0.000000    7592\n",
            "0.100000      14\n",
            "1.000000       6\n",
            "0.250000       6\n",
            "0.166667       5\n",
            "0.750000       4\n",
            "0.600000       3\n",
            "0.300000       2\n",
            "0.500000       2\n",
            "0.400000       2\n",
            "0.003236       1\n",
            "0.001119       1\n",
            "0.000550       1\n",
            "0.001102       1\n",
            "0.200000       1\n",
            "0.000796       1\n",
            "0.000562       1\n",
            "0.800000       1\n",
            "0.001088       1\n",
            "0.000557       1\n",
            "0.700000       1\n",
            "0.000558       1\n",
            "Name: hindu, dtype: int64\n"
          ]
        }
      ]
    },
    {
      "cell_type": "markdown",
      "source": [
        "There is not much toxicity against Hindu's."
      ],
      "metadata": {
        "id": "xHxKS7PvAyeJ"
      }
    },
    {
      "cell_type": "code",
      "source": [
        "for jj in toxic_df['sub_toxic'].unique():\n",
        "      print(jj)\n",
        "      print(toxic_df.loc[toxic_df['sub_toxic']==jj]['christian'].value_counts())"
      ],
      "metadata": {
        "colab": {
          "base_uri": "https://localhost:8080/"
        },
        "id": "Mfynjphrt3P5",
        "outputId": "28e49261-0e88-4364-de65-101e52430a4d"
      },
      "execution_count": null,
      "outputs": [
        {
          "output_type": "stream",
          "name": "stdout",
          "text": [
            "insult\n",
            "0.000000    19647\n",
            "1.000000      545\n",
            "0.166667      148\n",
            "0.300000      136\n",
            "0.833333      127\n",
            "0.200000      124\n",
            "0.100000      122\n",
            "0.400000      113\n",
            "0.800000      111\n",
            "0.500000       95\n",
            "0.600000       90\n",
            "0.700000       79\n",
            "0.900000       43\n",
            "0.250000       22\n",
            "0.750000       15\n",
            "0.666667        4\n",
            "0.333333        3\n",
            "0.888889        2\n",
            "0.285714        2\n",
            "0.000546        1\n",
            "0.063348        1\n",
            "0.454545        1\n",
            "0.000806        1\n",
            "0.636364        1\n",
            "0.000649        1\n",
            "0.001595        1\n",
            "0.971501        1\n",
            "0.002425        1\n",
            "0.000634        1\n",
            "0.363636        1\n",
            "Name: christian, dtype: int64\n",
            "obscene\n",
            "0.000000    1422\n",
            "1.000000      25\n",
            "0.200000      14\n",
            "0.800000      11\n",
            "0.166667      10\n",
            "0.300000       7\n",
            "0.833333       6\n",
            "0.600000       5\n",
            "0.500000       5\n",
            "0.700000       5\n",
            "0.100000       5\n",
            "0.400000       5\n",
            "0.900000       1\n",
            "0.250000       1\n",
            "Name: christian, dtype: int64\n",
            "sexual_explicit\n",
            "0.000000    1106\n",
            "1.000000      34\n",
            "0.300000      19\n",
            "0.200000      18\n",
            "0.400000      15\n",
            "0.700000      14\n",
            "0.166667      13\n",
            "0.833333      12\n",
            "0.600000      11\n",
            "0.100000      10\n",
            "0.800000       9\n",
            "0.500000       8\n",
            "0.900000       5\n",
            "0.333333       1\n",
            "0.250000       1\n",
            "Name: christian, dtype: int64\n",
            "threat\n",
            "0.000000    685\n",
            "1.000000     13\n",
            "0.166667      4\n",
            "0.600000      3\n",
            "0.300000      2\n",
            "0.400000      2\n",
            "0.800000      2\n",
            "0.750000      1\n",
            "0.700000      1\n",
            "0.100000      1\n",
            "Name: christian, dtype: int64\n",
            "identity_attack\n",
            "0.000000    6321\n",
            "1.000000     568\n",
            "0.833333      88\n",
            "0.800000      88\n",
            "0.100000      70\n",
            "0.166667      68\n",
            "0.300000      60\n",
            "0.500000      59\n",
            "0.200000      54\n",
            "0.400000      53\n",
            "0.900000      51\n",
            "0.600000      44\n",
            "0.750000      33\n",
            "0.700000      33\n",
            "0.250000      20\n",
            "0.666667      14\n",
            "0.333333       7\n",
            "0.000550       1\n",
            "0.242340       1\n",
            "0.050336       1\n",
            "0.002204       1\n",
            "0.857143       1\n",
            "0.002389       1\n",
            "0.000551       1\n",
            "0.001263       1\n",
            "0.001103       1\n",
            "0.001268       1\n",
            "0.000545       1\n",
            "0.574194       1\n",
            "0.003371       1\n",
            "0.001290       1\n",
            "0.722892       1\n",
            "0.000544       1\n",
            "0.968932       1\n",
            "Name: christian, dtype: int64\n"
          ]
        }
      ]
    },
    {
      "cell_type": "markdown",
      "source": [
        "All the sub-categories are low but identity attack and insult have better ratios. "
      ],
      "metadata": {
        "id": "406eziY9A8zL"
      }
    },
    {
      "cell_type": "code",
      "source": [
        "for jj in toxic_df['sub_toxic'].unique():\n",
        "      print(jj)\n",
        "      print(toxic_df.loc[toxic_df['sub_toxic']==jj]['buddhist'].value_counts())"
      ],
      "metadata": {
        "colab": {
          "base_uri": "https://localhost:8080/"
        },
        "id": "w2m7g8sPw9Jq",
        "outputId": "c94f9e16-0d1a-415f-8586-818935e314c3"
      },
      "execution_count": null,
      "outputs": [
        {
          "output_type": "stream",
          "name": "stdout",
          "text": [
            "insult\n",
            "0.000000    21387\n",
            "0.100000       16\n",
            "0.166667       12\n",
            "0.250000        4\n",
            "0.500000        4\n",
            "1.000000        4\n",
            "0.700000        3\n",
            "0.004000        1\n",
            "0.900000        1\n",
            "0.800000        1\n",
            "0.600000        1\n",
            "0.090909        1\n",
            "0.300000        1\n",
            "0.000632        1\n",
            "0.750000        1\n",
            "0.200000        1\n",
            "Name: buddhist, dtype: int64\n",
            "obscene\n",
            "0.000000    1516\n",
            "0.100000       2\n",
            "0.166667       2\n",
            "0.500000       1\n",
            "0.250000       1\n",
            "Name: buddhist, dtype: int64\n",
            "sexual_explicit\n",
            "0.0    1276\n",
            "Name: buddhist, dtype: int64\n",
            "threat\n",
            "0.0    713\n",
            "0.1      1\n",
            "Name: buddhist, dtype: int64\n",
            "identity_attack\n",
            "0.000000    7606\n",
            "0.500000       8\n",
            "1.000000       5\n",
            "0.100000       4\n",
            "0.250000       4\n",
            "0.600000       3\n",
            "0.833333       2\n",
            "0.750000       2\n",
            "0.400000       2\n",
            "0.800000       2\n",
            "0.333333       1\n",
            "0.700000       1\n",
            "0.300000       1\n",
            "0.166667       1\n",
            "0.666667       1\n",
            "0.200000       1\n",
            "0.955414       1\n",
            "0.001104       1\n",
            "0.000559       1\n",
            "0.001942       1\n",
            "Name: buddhist, dtype: int64\n"
          ]
        }
      ]
    },
    {
      "cell_type": "markdown",
      "source": [
        "There is not much toxicity against buddhists. "
      ],
      "metadata": {
        "id": "TRFwFMCPBFWp"
      }
    },
    {
      "cell_type": "markdown",
      "source": [
        "#Distribution of toxic category:- Color"
      ],
      "metadata": {
        "id": "9kqhbV8g1or0"
      }
    },
    {
      "cell_type": "code",
      "source": [
        "for jj in toxic_df['sub_toxic'].unique():\n",
        "      print(jj)\n",
        "      print(toxic_df.loc[toxic_df['sub_toxic']==jj]['black'].value_counts())"
      ],
      "metadata": {
        "colab": {
          "base_uri": "https://localhost:8080/"
        },
        "id": "QUzQ0EguxapT",
        "outputId": "5925db1d-86bc-463b-c026-52a04779d424"
      },
      "execution_count": null,
      "outputs": [
        {
          "output_type": "stream",
          "name": "stdout",
          "text": [
            "insult\n",
            "0.000000    20082\n",
            "1.000000      512\n",
            "0.800000      129\n",
            "0.833333      127\n",
            "0.100000       90\n",
            "0.700000       73\n",
            "0.500000       72\n",
            "0.600000       69\n",
            "0.166667       57\n",
            "0.400000       45\n",
            "0.200000       42\n",
            "0.900000       36\n",
            "0.300000       34\n",
            "0.750000       32\n",
            "0.250000       17\n",
            "0.666667        6\n",
            "0.333333        5\n",
            "0.857143        2\n",
            "0.090909        1\n",
            "0.001612        1\n",
            "0.000797        1\n",
            "0.976000        1\n",
            "0.888889        1\n",
            "0.005066        1\n",
            "0.285714        1\n",
            "0.005191        1\n",
            "0.000561        1\n",
            "Name: black, dtype: int64\n",
            "obscene\n",
            "0.000000    1448\n",
            "1.000000      35\n",
            "0.400000       6\n",
            "0.166667       6\n",
            "0.500000       5\n",
            "0.800000       4\n",
            "0.700000       3\n",
            "0.750000       3\n",
            "0.900000       2\n",
            "0.600000       2\n",
            "0.100000       2\n",
            "0.833333       2\n",
            "0.300000       2\n",
            "0.666667       1\n",
            "0.200000       1\n",
            "Name: black, dtype: int64\n",
            "sexual_explicit\n",
            "0.000000    1241\n",
            "1.000000      11\n",
            "0.100000       5\n",
            "0.400000       4\n",
            "0.166667       4\n",
            "0.800000       3\n",
            "0.500000       2\n",
            "0.600000       2\n",
            "0.200000       1\n",
            "0.700000       1\n",
            "0.000643       1\n",
            "0.833333       1\n",
            "Name: black, dtype: int64\n",
            "threat\n",
            "0.000000    696\n",
            "1.000000      6\n",
            "0.600000      3\n",
            "0.200000      2\n",
            "0.500000      2\n",
            "0.833333      2\n",
            "0.100000      2\n",
            "0.700000      1\n",
            "Name: black, dtype: int64\n",
            "identity_attack\n",
            "0.000000    5387\n",
            "1.000000    1386\n",
            "0.833333     178\n",
            "0.800000     169\n",
            "0.900000      72\n",
            "0.750000      66\n",
            "0.100000      65\n",
            "0.700000      57\n",
            "0.500000      55\n",
            "0.600000      53\n",
            "0.166667      32\n",
            "0.400000      25\n",
            "0.200000      25\n",
            "0.250000      20\n",
            "0.300000      18\n",
            "0.666667      16\n",
            "0.333333       6\n",
            "0.857143       2\n",
            "0.898567       1\n",
            "0.000536       1\n",
            "0.971507       1\n",
            "0.000559       1\n",
            "0.937878       1\n",
            "0.958678       1\n",
            "0.897846       1\n",
            "0.979355       1\n",
            "0.967151       1\n",
            "0.934686       1\n",
            "0.949779       1\n",
            "0.003226       1\n",
            "0.119101       1\n",
            "0.008269       1\n",
            "0.001632       1\n",
            "0.968174       1\n",
            "Name: black, dtype: int64\n"
          ]
        }
      ]
    },
    {
      "cell_type": "markdown",
      "source": [
        "All the sub-categories are low but identity attack seems to have highest ratio. "
      ],
      "metadata": {
        "id": "McKhScT5BQaU"
      }
    },
    {
      "cell_type": "code",
      "source": [
        "for jj in toxic_df['sub_toxic'].unique():\n",
        "      print(jj)\n",
        "      print(toxic_df.loc[toxic_df['sub_toxic']==jj]['white'].value_counts())"
      ],
      "metadata": {
        "colab": {
          "base_uri": "https://localhost:8080/"
        },
        "id": "DLw8Py4bxjtI",
        "outputId": "6d27a804-16ec-4de9-a1a4-9231a860168f"
      },
      "execution_count": null,
      "outputs": [
        {
          "output_type": "stream",
          "name": "stdout",
          "text": [
            "insult\n",
            "0.000000    18957\n",
            "1.000000     1090\n",
            "0.800000      270\n",
            "0.833333      252\n",
            "0.700000      157\n",
            "0.600000      110\n",
            "0.900000      101\n",
            "0.100000       94\n",
            "0.500000       93\n",
            "0.166667       90\n",
            "0.400000       58\n",
            "0.200000       53\n",
            "0.300000       52\n",
            "0.750000       27\n",
            "0.666667        9\n",
            "0.250000        7\n",
            "0.888889        3\n",
            "0.857143        3\n",
            "0.333333        2\n",
            "0.972000        1\n",
            "0.989617        1\n",
            "0.001617        1\n",
            "0.454545        1\n",
            "0.870804        1\n",
            "0.000797        1\n",
            "0.222222        1\n",
            "0.002183        1\n",
            "0.714286        1\n",
            "0.975020        1\n",
            "0.272727        1\n",
            "Name: white, dtype: int64\n",
            "obscene\n",
            "0.000000    1422\n",
            "1.000000      47\n",
            "0.800000       8\n",
            "0.833333       8\n",
            "0.700000       6\n",
            "0.166667       5\n",
            "0.900000       5\n",
            "0.500000       4\n",
            "0.300000       4\n",
            "0.200000       4\n",
            "0.600000       3\n",
            "0.000554       1\n",
            "0.400000       1\n",
            "0.250000       1\n",
            "0.181818       1\n",
            "0.100000       1\n",
            "0.666667       1\n",
            "Name: white, dtype: int64\n",
            "sexual_explicit\n",
            "0.000000    1221\n",
            "1.000000      17\n",
            "0.800000       8\n",
            "0.833333       7\n",
            "0.300000       4\n",
            "0.100000       4\n",
            "0.200000       3\n",
            "0.900000       2\n",
            "0.700000       2\n",
            "0.400000       2\n",
            "0.166667       2\n",
            "0.600000       1\n",
            "0.666667       1\n",
            "0.001285       1\n",
            "0.500000       1\n",
            "Name: white, dtype: int64\n",
            "threat\n",
            "0.000000    687\n",
            "1.000000     13\n",
            "0.500000      4\n",
            "0.833333      3\n",
            "0.700000      2\n",
            "0.200000      1\n",
            "0.300000      1\n",
            "0.800000      1\n",
            "0.100000      1\n",
            "0.900000      1\n",
            "Name: white, dtype: int64\n",
            "identity_attack\n",
            "0.000000    4962\n",
            "1.000000    1594\n",
            "0.833333     251\n",
            "0.800000     242\n",
            "0.900000     134\n",
            "0.750000      95\n",
            "0.700000      78\n",
            "0.600000      71\n",
            "0.500000      55\n",
            "0.100000      41\n",
            "0.200000      23\n",
            "0.166667      17\n",
            "0.666667      17\n",
            "0.250000      17\n",
            "0.400000      17\n",
            "0.333333       8\n",
            "0.300000       6\n",
            "0.866836       1\n",
            "0.950137       1\n",
            "0.727273       1\n",
            "0.007147       1\n",
            "0.974656       1\n",
            "0.895086       1\n",
            "0.825248       1\n",
            "0.958939       1\n",
            "0.001671       1\n",
            "0.669032       1\n",
            "0.875000       1\n",
            "0.857143       1\n",
            "0.142857       1\n",
            "0.809051       1\n",
            "0.952903       1\n",
            "0.858989       1\n",
            "0.958104       1\n",
            "0.909091       1\n",
            "0.007073       1\n",
            "0.003908       1\n",
            "Name: white, dtype: int64\n"
          ]
        }
      ]
    },
    {
      "cell_type": "markdown",
      "source": [
        "Surprisingly, all the sub-categories are low but identity attack seems to have highest ratio even for whites."
      ],
      "metadata": {
        "id": "r50Tyek1BpF0"
      }
    },
    {
      "cell_type": "markdown",
      "source": [
        "#Distribution of toxic category:- Disability"
      ],
      "metadata": {
        "id": "NaAAj9Pj1wd5"
      }
    },
    {
      "cell_type": "code",
      "source": [
        "for jj in toxic_df['sub_toxic'].unique():\n",
        "      print(jj)\n",
        "      print(toxic_df.loc[toxic_df['sub_toxic']==jj]['physical_disability'].value_counts())"
      ],
      "metadata": {
        "colab": {
          "base_uri": "https://localhost:8080/"
        },
        "id": "ey8UFejbxukT",
        "outputId": "3863b808-32c8-4a1f-9d70-7bf2f6f25626"
      },
      "execution_count": null,
      "outputs": [
        {
          "output_type": "stream",
          "name": "stdout",
          "text": [
            "insult\n",
            "0.000000    21212\n",
            "0.100000       95\n",
            "0.166667       54\n",
            "0.200000       47\n",
            "0.300000       15\n",
            "0.400000        4\n",
            "0.250000        3\n",
            "0.090909        2\n",
            "0.000633        1\n",
            "0.001623        1\n",
            "0.001092        1\n",
            "0.142857        1\n",
            "0.000632        1\n",
            "0.007291        1\n",
            "1.000000        1\n",
            "Name: physical_disability, dtype: int64\n",
            "obscene\n",
            "0.000000    1513\n",
            "0.100000       4\n",
            "0.200000       3\n",
            "0.000554       1\n",
            "0.166667       1\n",
            "Name: physical_disability, dtype: int64\n",
            "sexual_explicit\n",
            "0.000000    1261\n",
            "0.166667       6\n",
            "0.100000       6\n",
            "0.300000       3\n",
            "Name: physical_disability, dtype: int64\n",
            "threat\n",
            "0.000000    708\n",
            "0.200000      2\n",
            "0.166667      2\n",
            "0.100000      2\n",
            "Name: physical_disability, dtype: int64\n",
            "identity_attack\n",
            "0.000000    7588\n",
            "0.100000      27\n",
            "0.166667      12\n",
            "0.200000      11\n",
            "0.300000       4\n",
            "0.400000       2\n",
            "0.500000       1\n",
            "0.000796       1\n",
            "0.001100       1\n",
            "0.000559       1\n",
            "Name: physical_disability, dtype: int64\n"
          ]
        }
      ]
    },
    {
      "cell_type": "markdown",
      "source": [
        "There is not much toxicity against physical disability. "
      ],
      "metadata": {
        "id": "QVvI1FM2B7LH"
      }
    },
    {
      "cell_type": "code",
      "source": [
        "for jj in toxic_df['sub_toxic'].unique():\n",
        "      print(jj)\n",
        "      print(toxic_df.loc[toxic_df['sub_toxic']==jj]['intellectual_or_learning_disability'].value_counts())"
      ],
      "metadata": {
        "colab": {
          "base_uri": "https://localhost:8080/"
        },
        "id": "vUmQbPOZyD9w",
        "outputId": "a9dc358c-3ecb-464d-c5c0-cabc50c46dbd"
      },
      "execution_count": null,
      "outputs": [
        {
          "output_type": "stream",
          "name": "stdout",
          "text": [
            "insult\n",
            "0.000000    20813\n",
            "0.100000      266\n",
            "0.166667      232\n",
            "0.200000       84\n",
            "0.300000       19\n",
            "0.250000        7\n",
            "0.400000        3\n",
            "0.142857        3\n",
            "0.111111        2\n",
            "0.003275        1\n",
            "0.001293        1\n",
            "0.014021        1\n",
            "0.090909        1\n",
            "0.002533        1\n",
            "0.002392        1\n",
            "0.000541        1\n",
            "0.500000        1\n",
            "0.181818        1\n",
            "0.700000        1\n",
            "Name: intellectual_or_learning_disability, dtype: int64\n",
            "obscene\n",
            "0.000000    1515\n",
            "0.100000       3\n",
            "0.166667       1\n",
            "0.200000       1\n",
            "0.090909       1\n",
            "0.142857       1\n",
            "Name: intellectual_or_learning_disability, dtype: int64\n",
            "sexual_explicit\n",
            "0.000000    1271\n",
            "0.100000       2\n",
            "0.166667       2\n",
            "0.000643       1\n",
            "Name: intellectual_or_learning_disability, dtype: int64\n",
            "threat\n",
            "0.000000    713\n",
            "0.166667      1\n",
            "Name: intellectual_or_learning_disability, dtype: int64\n",
            "identity_attack\n",
            "0.000000    7611\n",
            "0.100000      22\n",
            "0.166667       5\n",
            "0.200000       4\n",
            "0.000544       1\n",
            "0.000551       1\n",
            "0.400000       1\n",
            "0.001104       1\n",
            "0.000550       1\n",
            "0.000559       1\n",
            "Name: intellectual_or_learning_disability, dtype: int64\n"
          ]
        }
      ]
    },
    {
      "cell_type": "markdown",
      "source": [
        "There is not much toxicity against intellectual or learning disability. "
      ],
      "metadata": {
        "id": "eZlcL8XSCENk"
      }
    },
    {
      "cell_type": "code",
      "source": [
        "for jj in toxic_df['sub_toxic'].unique():\n",
        "      print(jj)\n",
        "      print(toxic_df.loc[toxic_df['sub_toxic']==jj]['psychiatric_or_mental_illness'].value_counts())\n"
      ],
      "metadata": {
        "colab": {
          "base_uri": "https://localhost:8080/"
        },
        "id": "dgTVf9pXyNQe",
        "outputId": "5f97309c-0306-48d4-b451-ab6e687a24bf"
      },
      "execution_count": null,
      "outputs": [
        {
          "output_type": "stream",
          "name": "stdout",
          "text": [
            "insult\n",
            "0.000000    19882\n",
            "0.166667      262\n",
            "0.100000      195\n",
            "0.200000      165\n",
            "1.000000      141\n",
            "0.600000      131\n",
            "0.400000      129\n",
            "0.500000      118\n",
            "0.300000      117\n",
            "0.800000       96\n",
            "0.833333       91\n",
            "0.700000       88\n",
            "0.900000        6\n",
            "0.142857        3\n",
            "0.250000        2\n",
            "0.454545        2\n",
            "0.090909        1\n",
            "0.000562        1\n",
            "0.000806        1\n",
            "0.857143        1\n",
            "0.888889        1\n",
            "0.000546        1\n",
            "0.000797        1\n",
            "0.037338        1\n",
            "0.000633        1\n",
            "0.272727        1\n",
            "0.756029        1\n",
            "Name: psychiatric_or_mental_illness, dtype: int64\n",
            "obscene\n",
            "0.000000    1494\n",
            "0.100000       8\n",
            "0.166667       4\n",
            "0.800000       3\n",
            "0.300000       3\n",
            "0.600000       2\n",
            "0.833333       2\n",
            "1.000000       2\n",
            "0.400000       1\n",
            "0.200000       1\n",
            "0.700000       1\n",
            "0.500000       1\n",
            "Name: psychiatric_or_mental_illness, dtype: int64\n",
            "sexual_explicit\n",
            "0.000000    1251\n",
            "0.100000       8\n",
            "0.166667       7\n",
            "1.000000       2\n",
            "0.300000       2\n",
            "0.600000       2\n",
            "0.200000       2\n",
            "0.500000       1\n",
            "0.800000       1\n",
            "Name: psychiatric_or_mental_illness, dtype: int64\n",
            "threat\n",
            "0.000000    698\n",
            "1.000000      4\n",
            "0.400000      4\n",
            "0.166667      3\n",
            "0.500000      2\n",
            "0.833333      1\n",
            "0.600000      1\n",
            "0.100000      1\n",
            "Name: psychiatric_or_mental_illness, dtype: int64\n",
            "identity_attack\n",
            "0.000000    7472\n",
            "0.100000      37\n",
            "0.166667      30\n",
            "0.400000      17\n",
            "0.600000      14\n",
            "1.000000      14\n",
            "0.200000      13\n",
            "0.300000      10\n",
            "0.500000      10\n",
            "0.700000       9\n",
            "0.833333       7\n",
            "0.800000       4\n",
            "0.900000       3\n",
            "0.001100       1\n",
            "0.000551       1\n",
            "0.250000       1\n",
            "0.000562       1\n",
            "0.000545       1\n",
            "0.000645       1\n",
            "0.090909       1\n",
            "0.000536       1\n",
            "Name: psychiatric_or_mental_illness, dtype: int64\n"
          ]
        }
      ]
    },
    {
      "cell_type": "markdown",
      "source": [
        "There is not much toxicity but identity attack seems to have some number which may be due to the fact that people call each other stupid and stuff. "
      ],
      "metadata": {
        "id": "1UtOui5ZCSR4"
      }
    },
    {
      "cell_type": "markdown",
      "source": [
        "#Distribution of toxic category:- Comments"
      ],
      "metadata": {
        "id": "7P1cpM5X13iZ"
      }
    },
    {
      "cell_type": "code",
      "source": [
        "for jj in toxic_df['sub_toxic'].unique():\n",
        "      print('*' * 100)\n",
        "      print(jj)\n",
        "      print(toxic_df.loc[toxic_df['sub_toxic']==jj]['comment_text'].value_counts())\n"
      ],
      "metadata": {
        "colab": {
          "base_uri": "https://localhost:8080/"
        },
        "id": "sgzGKSJ8yZT2",
        "outputId": "f1543c45-bdcd-4d17-a41e-aa00a6ebb827"
      },
      "execution_count": null,
      "outputs": [
        {
          "output_type": "stream",
          "name": "stdout",
          "text": [
            "****************************************************************************************************\n",
            "insult\n",
            "H.L. MENCKEN’S prediction:\\n\\n“As democracy is perfected, the office of the President represents, more and more closely, the inner soul of the people. On some great and glorious day, the plain folks of the Land will reach their heart’s desire at last, and the White House will be occupied by a downright fool and complete narcissist moron.”\\n\\n  -H.L. Mencken\\nThe Baltimore Evening Sun,\\nJuly 26, 1920                                                                                                                                                                                                                                                                                                                                                                                  26\n",
            "Nicky, you can't handle the truth. Both Harper and Harris were completely useless scumbags. One was the worst PM we will ever have, and the other is the worst Ontario Premier we will ever have. You can sling all the sing-song baloney you want, they were the worst.                                                                                                                                                                                                                                                                                                                                                                                                                                                                                                                            24\n",
            "You're an idiot.                                                                                                                                                                                                                                                                                                                                                                                                                                                                                                                                                                                                                                                                                                                                                                                    19\n",
            "Pathetic.                                                                                                                                                                                                                                                                                                                                                                                                                                                                                                                                                                                                                                                                                                                                                                                           17\n",
            "Trudeau, you terrorist sympathizer....                                                                                                                                                                                                                                                                                                                                                                                                                                                                                                                                                                                                                                                                                                                                                              17\n",
            "                                                                                                                                                                                                                                                                                                                                                                                                                                                                                                                                                                                                                                                                                                                                                                                                    ..\n",
            "Sore loser liberal. Get over it. Your skank lost. Move on. You reek of liberal white guilt.                                                                                                                                                                                                                                                                                                                                                                                                                                                                                                                                                                                                                                                                                                          1\n",
            "Considering these leaks have now been going on for years and have never (honestly) been attributed to Russia, I would suggest you take off your tinfoil hat and \"Grab My P*&&y\" t-shirt off.  You're making yourself look foolish.                                                                                                                                                                                                                                                                                                                                                                                                                                                                                                                                                                   1\n",
            "That woman's bat-shat crazy. Whole family is a freak show, especially Herr Tiny Hands.                                                                                                                                                                                                                                                                                                                                                                                                                                                                                                                                                                                                                                                                                                               1\n",
            "Why don't PC fascist like yourself not go and create a redoubt of like minded leftist?  There would be no whites, no normal sexual orientation,  no Christians', no sober folk not on drugs or booze, Wow, a progressive paradise!  You could sell books on pot farming, astrology, gunophobia, hemp, brown supremacy, How to speak PC code!  Wow!                                                                                                                                                                                                                                                                                                                                                                                                                                                   1\n",
            "Get your head out of your s. NADA you just described how the idiot in chief is destroying our country by doing jacksh--. Moving forward? What's working? His presidency is in shambles. He flies more than he works and he is on the longest working vacation ever. He is the system and he is the greatest con man of all time. Maybe you have three and half years to be wiser or hope to be but not me. I'm not an idiot. Everything that this guy touches turns to sh--. People like you who reference the Bible is what ithe problem is. Trying to reshape evil according to the gospel.Why would any person with an ounce of decency in them support such a vile and disgusting human being. Remember although he's not my cup of tea we have a Vice President. BTW where is Gary Johnson.     1\n",
            "Name: comment_text, Length: 83919, dtype: int64\n",
            "****************************************************************************************************\n",
            "obscene\n",
            "WTF?                                                                                                                                                                                                                                                                                                                                                                                                                                                                                                                                                                                                                                                                                                                                                                                  8\n",
            "Please for the love of GOD! STOP WAKING ME UP EVERYDAY WITH YOU RUDE AS HELL DELIVERY DRIVERS DESTROYING THE PEACE AND QUIET WITH THEIR NOISY, NO EXHAUST HAVING PIECE OF SHIT, GREEN MINI-VAN WITH PLASTIC FOR A REAR WINDOW. I HAVE WRITTEN TO CUSTOMER SERVICE AND THE NOISE WENT AWAY FOR A WEEK THEN COMPLAINED AGAIN, NOTHING! CALLED AND TALKED TO JOHN AND HE SAID HE WOULD TALK TO HER BUT, HE GAVE ME A NUMBER TO CALL BECAUSE HE KNEW NOTHING WOULD GET DONE. HE WAS RIGHT! I FINALLY HAD TO CHASE THE DRIVER DOWN AND SHE SAID, \"IM GETTING IT FIXED THIS WEEKEND.\" WELL ITS BEEN OVER A WEEK AND SHE IS BACK AND IM ABOUT TO LOSE MY MIND AS NOONE WILL DO ANYTHING ABOUT IT!  please stop the noise! fix the van! fix the van! fix the van! fix the van!                7\n",
            "Go fuck yourself Don.                                                                                                                                                                                                                                                                                                                                                                                                                                                                                                                                                                                                                                                                                                                                                                 4\n",
            "Sorry to have to do this, but just to see if profanity filtering is enabled: fuck.                                                                                                                                                                                                                                                                                                                                                                                                                                                                                                                                                                                                                                                                                                    4\n",
            "All this political party crap is total BS!  We're talking nuclear war on not.  We're talking 5,000 Democratic and Republican soldiers ordered by the Commander-in-Chief, President Obama to go to Poland and confront President Putin and his threatened 30,000 troops!\\n\\nGive it up!  Tell soon to be President Trump what to do!  Should he waffle and send the troops back to Ft Carson?  Should he have them attack Russia?  Should we wait until Putin attacks them?  Get off the pot and give some actual useful advice instead of being a political drone!                                                                                                                                                                                                                    4\n",
            "                                                                                                                                                                                                                                                                                                                                                                                                                                                                                                                                                                                                                                                                                                                                                                                     ..\n",
            "Compared to trump? Fuck no. Not even close.                                                                                                                                                                                                                                                                                                                                                                                                                                                                                                                                                                                                                                                                                                                                           1\n",
            "WTF ! If he is proven guilty I hope he gets life in prison.                                                                                                                                                                                                                                                                                                                                                                                                                                                                                                                                                                                                                                                                                                                           1\n",
            "Is Roxy in the Alaska Sports Hall of Fame?  If not, she damn well should be.                                                                                                                                                                                                                                                                                                                                                                                                                                                                                                                                                                                                                                                                                                          1\n",
            "So where is Silent Bill Walker's voice on this issue?  You would think a leader would say: \" Kids, cut the crap and go to your rooms, in the Atwood.\"  But no word from Silent Bill.  The next we hear from Walker will be his crying about how we need to give him PFD and tax money to buy a TajMahawker for his kids.                                                                                                                                                                                                                                                                                                                                                                                                                                                              1\n",
            "Bitter? Damn right I am! It is the likes of Ms Munusamy, Julius Malema,  Vavi and the rest of that lot who knew exactly who and what zuma was and yet championed his cause.  The only reason they are singing a different tune is because he had put his boot to each of their respective butts.  None of them left by choice or because it was the right thing to do. \\nDon't be hypocritical,  how many people out there have been as forgiving of Malema and Vavi and all the others that were cozying up to zuma? Why does the one deserve forgiveness and the others not?  \\nOh and I am a girl dragon - just intolerant of those who had a hand in our current situation as a country. It should never have happened, like you, I question people's motives. Too damn jaded!    1\n",
            "Name: comment_text, Length: 6572, dtype: int64\n",
            "****************************************************************************************************\n",
            "sexual_explicit\n",
            "OregonBorn: Look at what the Catholic Priests have accomplished over the last how many centuries, AND, the Boy Scouts of America. They have been raping boys, FOREVER.\\n\\nRead the Sign: FOREVER................                                                                                                                                                                                                                                                                 2\n",
            "Why change the context of the trial and pretend you're presenting a similar case?\\n\\nIf a male much larger than you held you down and tried to force his penis into your anus - would it be improper for the judge to ask why you just couldn't keep your buttocks together?                                                                                                                                                                                                     2\n",
            "Welcome to best sex dating site http://wantsdate.com                                                                                                                                                                                                                                                                                                                                                                                                                             2\n",
            "You like your privacy, so you can finger your bunghole.                                                                                                                                                                                                                                                                                                                                                                                                                          2\n",
            "Is this tem necessary for your discussion?\\n\\n\"Schmuck\", or \"shmuck\", in American English is a pejorative term meaning one who is stupid or foolish, or an obnoxious, contemptible or detestable person.\"\\n\\n\"In The Joys of Yiddish, Leo Rosten wrote: \"Never use schmuck lightly, or in the presence of women and children\", which was a common view among Jewish people who felt a connection to the language, and who still viewed it as an obscene reference to a penis.    2\n",
            "                                                                                                                                                                                                                                                                                                                                                                                                                                                                                ..\n",
            "Hannity with boobs...                                                                                                                                                                                                                                                                                                                                                                                                                                                            1\n",
            "NOTHING messes with the mind of the religious zealot MORE than SEX.                                                                                                                                                                                                                                                                                                                                                                                                              1\n",
            "No, admitted sexual assault is not ok, that's why I don't support the Clintons- Bill the rapist and Hillary the enabler.\\n\\nOh, I'm also not ok with Hillary laughing about losing faith in polygraph tests because of defending a child rapist that she knew was guilty.                                                                                                                                                                                                        1\n",
            "What is soul-murder? Do you mean that if you are sexually abused as a child you go to hell?                                                                                                                                                                                                                                                                                                                                                                                      1\n",
            "Her \"taxed\" feminism still does not brush away the fact that her and others knew of this behavior by both Weinstein AND President Bill Clinton, but due to either friendships, careers or political convenience (or all of the aforementioned) not only looked the other way but demanded that their audience also pay no attention to their man behind the green curtain who is masturbating away.                                                                              1\n",
            "Name: comment_text, Length: 2706, dtype: int64\n",
            "****************************************************************************************************\n",
            "threat\n",
            "TRUMP DEATH SQUADS™ will KILL YOUR GRANDMOTHER the first time she gets the sniffles.                                                                                                                                                                                                                                                                                                                                            4\n",
            "Execute him.                                                                                                                                                                                                                                                                                                                                                                                                                    3\n",
            "Lock him up!                                                                                                                                                                                                                                                                                                                                                                                                                    3\n",
            "TRUMP DEATH SQUADS™ are waiting for them with loaded guns...                                                                                                                                                                                                                                                                                                                                                                    3\n",
            "It takes a village to kill a child.                                                                                                                                                                                                                                                                                                                                                                                             2\n",
            "                                                                                                                                                                                                                                                                                                                                                                                                                               ..\n",
            "May I have the honor of severing your head from your neck?  LOL                                                                                                                                                                                                                                                                                                                                                                 1\n",
            "I am glad they got the SOB.\\nA good terrorist is a DEAD terrorist!                                                                                                                                                                                                                                                                                                                                                              1\n",
            "There is a third option - commit suicide...ugh!                                                                                                                                                                                                                                                                                                                                                                                 1\n",
            "The ev drivers will die.                                                                                                                                                                                                                                                                                                                                                                                                        1\n",
            "Absolutely we should \"weed out\" the brutal murderers and killers of women and children. That, presumably, would also include Mr Trump's Military Industrial Complex, which has brutally maimed and killed MILLIONS of innocent Muslim women and children over the last thirty years.\\n\\nIf only you (and those agreeing with you)  held your ideas with real conviction and rigour - the world would be a much better place.    1\n",
            "Name: comment_text, Length: 3429, dtype: int64\n",
            "****************************************************************************************************\n",
            "identity_attack\n",
            "Thank you Trump for making America great again. Not one brick of the wall has been laid but illegals are running for the hills out of the United States. Let's see if Canada's extremist liberal leader changes his tune when he now has to experience what the United States has been experiencing for years with these illegal aliens. As a matter of fact the United States has been acting as a buffer since Canada does not have a border Mexico. Suck it up liberal Canadians. Let's see you walk the talk. I hope these illegal aliens keep swamping Canada.    5\n",
            "Asian countries for Asians.\\n\\nBlack countries for Blacks.\\n\\nbut White countries for Everybody?\\n\\nThat's GENOCIDE!\\n\\nAnti-racist is a codeword for Anti-White                                                                                                                                                                                                                                                                                                                                                                                                       5\n",
            "Black Pride = being black and proud\\nGay Pride = being gay and proud\\nWhite Pride = NAZI!                                                                                                                                                                                                                                                                                                                                                                                                                                                                              4\n",
            "While Muslims excoriate us about supposed Islamophobia, we should bear in mind Islam's entrenched xenophobia, homophobia, misogyny, Judeophobia and antisemitism, , Christophbia, Europhobia, Americanophobia, democraceaophobia,  iconoclasm, and even Islamophobia against each other. Ancient tribal  wars of extermination between Kurds, Shiite, Sunni, Wahhabi, Druze and other Islamic sects are worse than anything expressed in the west, even by Trump                                                                                                       3\n",
            "You lose sleep in your white man bed, your head on a white man pillow, under your white man sheets, in your white man house, where you eat white man food, and keep your white man computer, and your white man clothing and white man toilet. Oh how you suffer.                                                                                                                                                                                                                                                                                                      3\n",
            "                                                                                                                                                                                                                                                                                                                                                                                                                                                                                                                                                                      ..\n",
            "He said that he would not make them a wedding cake because the were homosexual. That is humiliating and denigrating them.                                                                                                                                                                                                                                                                                                                                                                                                                                              1\n",
            "The fact of the matter is that all people were created equal, after that comes their choice. Negroes are a defective race, if they are a race at all. Wouldn't a qualifying factor (determining race) be the question, human? or not human?                                                                                                                                                                                                                                                                                                                            1\n",
            "The GOP seems to be the party of white, male, sexual assault.                                                                                                                                                                                                                                                                                                                                                                                                                                                                                                          1\n",
            "The National econom u is doing fine. You Hate Muslims.  I get it.                                                                                                                                                                                                                                                                                                                                                                                                                                                                                                      1\n",
            "It's very clear--she's a black woman.\\n\\nAs such, she gets eleven strikes.\\n\\nKurt Schilling got two strikes.                                                                                                                                                                                                                                                                                                                                                                                                                                                          1\n",
            "Name: comment_text, Length: 8533, dtype: int64\n"
          ]
        }
      ]
    },
    {
      "cell_type": "markdown",
      "source": [
        "- Insult:- It contains words which are considered vulgar and meant to hurt other people. \n",
        "- Obscene: - It contains much higher level of vulgar words along with nasty remarks against people.\n",
        "- Sexual explicit:- It contains words mostly related to sex and sexual parts.\n",
        "- Threat:- Killing and making threats to cause damage are frequent in this sub-category.\n",
        "- Identity attack:- It contains sentences which are derogatory against identities and preferences of people. \n"
      ],
      "metadata": {
        "id": "At59CuQkCkTF"
      }
    }
  ]
}
